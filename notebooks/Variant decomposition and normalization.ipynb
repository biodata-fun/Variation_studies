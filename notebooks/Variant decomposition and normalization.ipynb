{
 "cells": [
  {
   "cell_type": "markdown",
   "metadata": {},
   "source": [
    "Different callers represent the same variant in different ways, which makes the comparison between differen call sets complicated. For this reason, it is necessary to have a procedure to normalize the variants.\n",
    "\n",
    "This document presents the different tools and the procedure to standardize the variants. This procedure will take care of:\n",
    "* multiallelic variants\n",
    "* MNPs\n",
    "* normalize snps+indels"
   ]
  },
  {
   "cell_type": "markdown",
   "metadata": {},
   "source": [
    "** NOTE: ** Freebayes is capable of identifying complex variants that according to the Freebayes manual are:\n",
    "composite insertion and substitution events\n",
    "I haven't found the way of normalizing them"
   ]
  },
  {
   "cell_type": "markdown",
   "metadata": {},
   "source": [
    "# Multiallelic variants\n",
    "I use bcftools to split the multiallelic sites into different records. For example we have the following multiallelic SNP site:"
   ]
  },
  {
   "cell_type": "raw",
   "metadata": {},
   "source": [
    "#before running bcftools\n",
    "chr20   10002349        .       CAA     CA,C,CAAA,AAA\n",
    "\n",
    "# after running bcftools\n",
    "chr20   10002349        .       CAA     CA      0\n",
    "chr20   10002349        .       CAA     C       0\n",
    "chr20   10002349        .       CAA     CAAA    0\n",
    "chr20   10002349        .       CAA     AAA     0"
   ]
  },
  {
   "cell_type": "markdown",
   "metadata": {},
   "source": [
    "This splitting is necessary in order for the downstream normalization processes to be effective"
   ]
  },
  {
   "cell_type": "markdown",
   "metadata": {},
   "source": [
    "Command used for this splitting is:"
   ]
  },
  {
   "cell_type": "raw",
   "metadata": {},
   "source": [
    "bcftools norm -m -any $snps.vcf.gz -o $snps.splitted.vcf.gz -Oz"
   ]
  },
  {
   "cell_type": "markdown",
   "metadata": {},
   "source": [
    "**Note:** If you want to select a certain variant type (i.e. snps,indels) to be normalized, one has to select the desired variant after splitting the multiallelic variants, as the same multiallelic record can have different variant types. For example:"
   ]
  },
  {
   "cell_type": "raw",
   "metadata": {},
   "source": [
    "chr1    10173   .       CCTAAC  CCAACC,CC,CCTAAAC,CCTAACC,CTTAAC,CCTACC 0       .       AB=0.0769231,0.083779,0.0582822,0.298205,0.0857843,0.133975;ABP=104.067,847.171,555.497,613.85,611.044,1331.94;AC=0,0,0,0,2,0;AF=0.0275038,0.0180197,0.000948407,0.0508346,0.258156,0.0201062;AN=2;AO=157,953,522,5530,643,2251;CIGAR=2M1X1M1X1M,1M4D1M,3M1I3M,5M1I1M,1M1X4M,4M1X1M;DP=32616;DPB=37347.3;DPRA=1.54944,1.51152,1.7351,2.75298,1.52293,1.91036;EPP=3.13478,13.2388,17.986,40.746,64.5579,131.528;EPPR=1330.87;GTI=10;LEN=6,4,1,1,1,1;MEANALT=4.93793,4.24182,4.72585,3.65839,4.23246,3.99206;MQM=16.8726,12.9717,17.6418,16.4136,15.647,16.454;MQMR=16.1027;NS=2636;NUMALT=6;ODDS=14839.7;PAIRED=0.917197,0.871983,0.957854,0.986618,0.844479,0.971124;PAIREDR=0.80786;PAO=865.143,744.143,1683.31,1906.64,403.81,1497.64;PQA=9741.04,8498.37,25192.3,29420.2,4163.79,20746.5;PQR=27262.8;PRO=1757.31;QA=2186,21089,6368,141741,8829,34505;QR=516503;RO=19668;RPL=70,486,204,3825,226,744;RPP=7.00747,3.83286,57.0725,1767.83,126.21,564.611;RPPR=3.55129;RPR=87,467,318,1705,417,1507;RUN=1,1,1,1,1,1;SAF=77,708,389,3875,417,1456;SAP=3.13478,491.464,275.634,1938.25,126.21,424.495;SAR=80,245,133,1655,226,795;SRF=12233;SRP=2544.65;SRR=7435;TYPE=complex,del,ins,ins,snp,snp;technology.ILLUMINA=1,1,1,1,1,1"
   ]
  },
  {
   "cell_type": "markdown",
   "metadata": {},
   "source": [
    "# MNPs\n",
    "Multinucleotide polymorphisms can be decomposed and converted to SNVs. For example, we have the following multiallelic SNP site:"
   ]
  },
  {
   "cell_type": "raw",
   "metadata": {},
   "source": [
    "chr1    14573   .       CA      TG      0       .       AB=0.0818182;ABP=170.095;AC=0;AF=0.000577812;AN=2;AO=13;CIGAR=2X;DP=37321;DPB=37614.5;DPRA=2.10393;EPP=4.51363;EPPR=272.52;GTI=10;LEN=2;MEANALT=2;MQM=13.4615;MQMR=22.9444;NS=2596;NUMALT=2;ODDS=2256.38;PAIRED=1;PAIREDR=1;PAO=24.5;PQA=621.5;PQR=2386;PRO=432.5;QA=380;QR=927559;RO=30012;RPL=8;RPP=4.51363;RPPR=2164.73;RPR=5;RUN=1;SAF=13;SAP=31.2394;SAR=0;SRF=25336;SRP=30886;SRR=4676;TYPE=mnp;technology.ILLUMINA=1\n",
    "chr1    14573   .       CA      CG      0       .       AB=0.321842;ABP=3361.78;AC=1;AF=0.213598;AN=2;AO=7160;CIGAR=1M1X;DP=37321;DPB=37614.5;DPRA=3.66388;EPP=2732.51;EPPR=272.52;GTI=10;LEN=1;MEANALT=1.06699;MQM=17.0934;MQMR=22.9444;NS=2596;NUMALT=2;ODDS=2256.38;PAIRED=1;PAIREDR=1;PAO=129;PQA=3007.5;PQR=2386;PRO=432.5;QA=183278;QR=927559;RO=30012;RPL=5076;RPP=2717.98;RPPR=2164.73;RPR=2084;RUN=1;SAF=7150;SAP=15464;SAR=10;SRF=25336;SRP=30886;SRR=4676;TYPE=snp;technology.ILLUMINA=1"
   ]
  },
  {
   "cell_type": "code",
   "execution_count": null,
   "metadata": {},
   "outputs": [],
   "source": [
    "After decomposition we will have:"
   ]
  },
  {
   "cell_type": "raw",
   "metadata": {},
   "source": [
    "#post vcfallelicprimitives\n",
    "chr1    14573   .       C       T       0       .       AB=0.0818182;ABP=170.095;AC=0;AF=0.000577812;AN=2;AO=13;CIGAR=2X;DP=37321;DPB=37614.5;DPRA=2.10393;EPP=4.51363;EPPR=272.52;GTI=10;LEN=1;MEANALT=2;MQM=13.4615;MQMR=22.9444;NS=2596;NUMALT=2;ODDS=2256.38;PAIRED=1;PAIREDR=1;PAO=24.5;PQA=621.5;PQR=2386;PRO=432.5;QA=380;QR=927559;RO=30012;RPL=8;RPP=4.51363;RPPR=2164.73;RPR=5;RUN=1;SAF=13;SAP=31.2394;SAR=0;SRF=25336;SRP=30886;SRR=4676;TYPE=snp;technology.ILLUMINA=1     GT\n",
    "chr1    14574   .       A       G       0       .       AB=0.0818182;ABP=170.095;AC=0;AF=0.000577812;AN=2;AO=13;CIGAR=2X;DP=37321;DPB=37614.5;DPRA=2.10393;EPP=4.51363;EPPR=272.52;GTI=10;LEN=1;MEANALT=2;MQM=13.4615;MQMR=22.9444;NS=2596;NUMALT=2;ODDS=2256.38;PAIRED=1;PAIREDR=1;PAO=24.5;PQA=621.5;PQR=2386;PRO=432.5;QA=380;QR=927559;RO=30012;RPL=8;RPP=4.51363;RPPR=2164.73;RPR=5;RUN=1;SAF=13;SAP=31.2394;SAR=0;SRF=25336;SRP=30886;SRR=4676;TYPE=snp;technology.ILLUMINA=1     GT\n",
    "chr1    14574   .       A       G       0       .       AB=0.321842;ABP=3361.78;AC=1;AF=0.213598;AN=2;AO=7160;CIGAR=1M1X;DP=37321;DPB=37614.5;DPRA=3.66388;EPP=2732.51;EPPR=272.52;GTI=10;LEN=1;MEANALT=1.06699;MQM=17.0934;MQMR=22.9444;NS=2596;NUMALT=2;ODDS=2256.38;PAIRED=1;PAIREDR=1;PAO=129;PQA=3007.5;PQR=2386;PRO=432.5;QA=183278;QR=927559;RO=30012;RPL=5076;RPP=2717.98;RPPR=2164.73;RPR=2084;RUN=1;SAF=7150;SAP=15464;SAR=10;SRF=25336;SRP=30886;SRR=4676;TYPE=snp;technology.ILLUMINA=1     GT"
   ]
  },
  {
   "cell_type": "markdown",
   "metadata": {},
   "source": [
    "We use vcfallelicprimitives (https://github.com/vcflib/vcflib.git) with the following command line:"
   ]
  },
  {
   "cell_type": "raw",
   "metadata": {},
   "source": [
    "vcfallelicprimitives -k -g $snps.vcf.gz |bgzip -c > snps.decomp.vcf.gz"
   ]
  },
  {
   "cell_type": "markdown",
   "metadata": {},
   "source": [
    "**Note:** This tool can normalize SNPs and INDELs, according to manual vcfallelicprimitives can:"
   ]
  },
  {
   "cell_type": "raw",
   "metadata": {},
   "source": [
    "Decompose complex variants into a canonical SNP and indel representation (vcfallelicprimitives), generating phased genotypes for available samples."
   ]
  },
  {
   "cell_type": "markdown",
   "metadata": {},
   "source": [
    "**Note:** This tools normalizes the variants apart from decomposing the MNPs but sites will be unsorted after normalization"
   ]
  },
  {
   "cell_type": "markdown",
   "metadata": {},
   "source": [
    "# Normalization of SNPs and INDELs"
   ]
  },
  {
   "cell_type": "markdown",
   "metadata": {},
   "source": [
    "For this one can use vcfallelicprimitives also. An example of VCF with SNPs+INDELs prenormalization:"
   ]
  },
  {
   "cell_type": "code",
   "execution_count": null,
   "metadata": {},
   "outputs": [],
   "source": [
    "chr1    10236   .       AACCCTA AACCCCTAA   TYPE=complex\n",
    "chr1    10236   .       AACCCTA AA      4.0116e-12      .       AB=0.178106;ABP=3110.69;AC=2;AF=0.123864;AN=2;AO=3622;CIGAR=1M5D1M;DP=38235;DPB=39399;DPRA=1.82578;EPP=609.749;EPPR=510.378;GTI=10;LEN=5;MEANALT=3.95724;MQM=18.8738;MQMR=16.732;NS=2640;NUMALT=7;ODDS=35949.8;PAIRED=0.739647;PAIREDR=0.849491;PAO=133.083;PQA=1866.46;PQR=21537.7;PRO=1137.83;QA=74586;QR=648816;RO=24570;RPL=2101;RPP=204.69;RPPR=2429.69;RPR=1521;RUN=1;SAF=1561;SAP=152.891;SAR=2061;SRF=12850;SRP=115.861;SRR=11720;TYPE=del;technology.ILLUMINA=1\n",
    "chr1    10236   .       AACCCTA AACCCCTA        4.0116e-12      .       AB=0.0855323;ABP=1642.82;AC=0;AF=0.00530303;AN=2;AO=680;CIGAR=2M1I5M;DP=38235;DPB=39399;DPRA=1.66044;EPP=52.1111;EPPR=510.378;GTI=10;LEN=1;MEANALT=4.97588;MQM=17.6588;MQMR=16.732;NS=2640;NUMALT=7;ODDS=35949.8;PAIRED=0.907353;PAIREDR=0.849491;PAO=789.833;PQA=13880.2;PQR=21537.7;PRO=1137.83;QA=9327;QR=648816;RO=24570;RPL=463;RPP=196.259;RPPR=2429.69;RPR=217;RUN=1;SAF=515;SAP=394.195;SAR=165;SRF=12850;SRP=115.861;SRR=11720;TYPE=ins;technology.ILLUMINA=1\n",
    "chr1    10236   .       AACCCTA AACCCTAA        4.0116e-12      .       AB=0.2171;ABP=2596.63;AC=0;AF=0.0655303;AN=2;AO=3968;CIGAR=6M1I1M;DP=38235;DPB=39399;DPRA=1.8104;EPP=667.588;EPPR=510.378;GTI=10;LEN=1;MEANALT=3.92714;MQM=19.0071;MQMR=16.732;NS=2640;NUMALT=7;ODDS=35949.8;PAIRED=0.748488;PAIREDR=0.849491;PAO=938.083;PQA=16850;PQR=21537.7;PRO=1137.83;QA=92054;QR=648816;RO=24570;RPL=2023;RPP=6.33975;RPPR=2429.69;RPR=1945;RUN=1;SAF=1802;SAP=75.5182;SAR=2166;SRF=12850;SRP=115.861;SRR=11720;TYPE=ins;technology.ILLUMINA=1\n",
    "chr1    10236   .       AACCCTA ACCCCTA 4.0116e-12      .       AB=0.0903194;ABP=2924.49;AC=0;AF=0.0306818;AN=2;AO=1229;CIGAR=1M1X5M;DP=38235;DPB=39399;DPRA=1.66887;EPP=46.5617;EPPR=510.378;GTI=10;LEN=1;MEANALT=4.64391;MQM=18.6876;MQMR=16.732;NS=2640;NUMALT=7;ODDS=35949.8;PAIRED=0.7738;PAIREDR=0.849491;PAO=240;PQA=4013.38;PQR=21537.7;PRO=1137.83;QA=15017;QR=648816;RO=24570;RPL=490;RPP=112.557;RPPR=2429.69;RPR=739;RUN=1;SAF=724;SAP=87.7507;SAR=505;SRF=12850;SRP=115.861;SRR=11720;TYPE=snp;technology.ILLUMINA=1\n",
    "chr1    10236   .       AACCCTA AGCCCTA 4.0116e-12      .       AB=0.0830189;ABP=403.225;AC=0;AF=0.0373106;AN=2;AO=138;CIGAR=1M1X5M;DP=38235;DPB=39399;DPRA=1.567;EPP=10.6262;EPPR=510.378;GTI=10;LEN=1;MEANALT=5.39344;MQM=19.9855;MQMR=16.732;NS=2640;NUMALT=7;ODDS=35949.8;PAIRED=0.92029;PAIREDR=0.849491;PAO=211.5;PQA=3878.38;PQR=21537.7;PRO=1137.83;QA=1498;QR=648816;RO=24570;RPL=96;RPP=48.8945;RPPR=2429.69;RPR=42;RUN=1;SAF=38;SAP=63.4968;SAR=100;SRF=12850;SRP=115.861;SRR=11720;TYPE=snp;technology.ILLUMINA=1\n",
    "chr1    10236   .       AACCCTA AACCCAA 4.0116e-12      .       AB=0.0832408;ABP=1362.29;AC=0;AF=0.00625;AN=2;AO=464;CIGAR=5M1X1M;DP=38235;DPB=39399;DPRA=1.53169;EPP=25.9418;EPPR=510.378;GTI=10;LEN=1;MEANALT=5.18135;MQM=17.7306;MQMR=16.732;NS=2640;NUMALT=7;ODDS=35949.8;PAIRED=0.821121;PAIREDR=0.849491;PAO=662.083;PQA=10627.5;PQR=21537.7;PRO=1137.83;QA=5643;QR=648816;RO=24570;RPL=295;RPP=77.3084;RPPR=2429.69;RPR=169;RUN=1;SAF=296;SAP=79.6857;SAR=168;SRF=12850;SRP=115.861;SRR=11720;TYPE=snp;technology.ILLUMINA=1"
   ]
  },
  {
   "cell_type": "markdown",
   "metadata": {},
   "source": [
    "And after the normalization:"
   ]
  },
  {
   "cell_type": "markdown",
   "metadata": {},
   "source": [
    "# Sorting positions\n",
    "The vcfallelicprimitives step will produce an unsorted vcf. These need to be sorted by doing:"
   ]
  },
  {
   "cell_type": "raw",
   "metadata": {},
   "source": [
    "bcftools sort $snps.vcf.gz | bgzip -c > $snps.sort.vcf.gz"
   ]
  },
  {
   "cell_type": "markdown",
   "metadata": {},
   "source": [
    "# Removing identical sites\n",
    "The procedure of decomposition and normalization may introduce replicated sites that need to be removed. \n",
    "For example:"
   ]
  },
  {
   "cell_type": "code",
   "execution_count": null,
   "metadata": {},
   "outputs": [],
   "source": [
    "chr20   10023499        .       A       G\n",
    "chr20   10023499        .       A       G\n",
    "chr20   10023499        .       A       G"
   ]
  },
  {
   "cell_type": "markdown",
   "metadata": {},
   "source": [
    "These positions should be removed. In our procedure we use vt (https://github.com/atks/vt.git) uniq by using the following command:"
   ]
  },
  {
   "cell_type": "raw",
   "metadata": {},
   "source": [
    " vt uniq $snp.vcf.gz | bgzip -c > $snp.uniq.vcf.gz"
   ]
  },
  {
   "cell_type": "raw",
   "metadata": {},
   "source": [
    "When there are duplicated positions that each have different INFO annotations, then vt uniq will select a certain record and remove the other duplicate/s positions. For example, let's check the site illustrated above:"
   ]
  },
  {
   "cell_type": "raw",
   "metadata": {},
   "source": [
    "#post vcfallelicprimitives\n",
    "chr1    14573   .       C       T       0       .       AB=0.0818182;ABP=170.095;AC=0;AF=0.000577812;AN=2;AO=13;CIGAR=2X;DP=37321;DPB=37614.5;DPRA=2.10393;EPP=4.51363;EPPR=272.52;GTI=10;LEN=1;MEANALT=2;MQM=13.4615;MQMR=22.9444;NS=2596;NUMALT=2;ODDS=2256.38;PAIRED=1;PAIREDR=1;PAO=24.5;PQA=621.5;PQR=2386;PRO=432.5;QA=380;QR=927559;RO=30012;RPL=8;RPP=4.51363;RPPR=2164.73;RPR=5;RUN=1;SAF=13;SAP=31.2394;SAR=0;SRF=25336;SRP=30886;SRR=4676;TYPE=snp;technology.ILLUMINA=1     GT\n",
    "chr1    14574   .       A       G       0       .       AB=0.0818182;ABP=170.095;AC=0;AF=0.000577812;AN=2;AO=13;CIGAR=2X;DP=37321;DPB=37614.5;DPRA=2.10393;EPP=4.51363;EPPR=272.52;GTI=10;LEN=1;MEANALT=2;MQM=13.4615;MQMR=22.9444;NS=2596;NUMALT=2;ODDS=2256.38;PAIRED=1;PAIREDR=1;PAO=24.5;PQA=621.5;PQR=2386;PRO=432.5;QA=380;QR=927559;RO=30012;RPL=8;RPP=4.51363;RPPR=2164.73;RPR=5;RUN=1;SAF=13;SAP=31.2394;SAR=0;SRF=25336;SRP=30886;SRR=4676;TYPE=snp;technology.ILLUMINA=1     GT\n",
    "chr1    14574   .       A       G       0       .       AB=0.321842;ABP=3361.78;AC=1;AF=0.213598;AN=2;AO=7160;CIGAR=1M1X;DP=37321;DPB=37614.5;DPRA=3.66388;EPP=2732.51;EPPR=272.52;GTI=10;LEN=1;MEANALT=1.06699;MQM=17.0934;MQMR=22.9444;NS=2596;NUMALT=2;ODDS=2256.38;PAIRED=1;PAIREDR=1;PAO=129;PQA=3007.5;PQR=2386;PRO=432.5;QA=183278;QR=927559;RO=30012;RPL=5076;RPP=2717.98;RPPR=2164.73;RPR=2084;RUN=1;SAF=7150;SAP=15464;SAR=10;SRF=25336;SRP=30886;SRR=4676;TYPE=snp;technology.ILLUMINA=1     GT"
   ]
  },
  {
   "cell_type": "markdown",
   "metadata": {},
   "source": [
    "After vt uniq:"
   ]
  },
  {
   "cell_type": "raw",
   "metadata": {},
   "source": [
    "chr1    14574   .       A       G       0       .       AB=0.321842;ABP=3361.78;AC=1;AF=0.213598;AN=2;AO=7160;CIGAR=1M1X;DP=37321;DPB=37614.5;DPRA=3.66388;EPP=2732.51;EPPR=272.52;GTI=10;LEN=1;MEANALT=1.06699;MQM=17.0934;MQMR=22.9444;NS=2596;NUMALT=2;ODDS=2256.38;PAIRED=1;PAIREDR=1;PAO=129;PQA=3007.5;PQR=2386;PRO=432.5;QA=183278;QR=927559;RO=30012;RPL=5076;RPP=2717.98;RPPR=2164.73;RPR=2084;RUN=1;SAF=7150;SAP=15464;SAR=10;SRF=25336;SRP=30886;SRR=4676;TYPE=snp;technology.ILLUMINA=1"
   ]
  }
 ],
 "metadata": {
  "kernelspec": {
   "display_name": "Python 3",
   "language": "python",
   "name": "python3"
  },
  "language_info": {
   "codemirror_mode": {
    "name": "ipython",
    "version": 3
   },
   "file_extension": ".py",
   "mimetype": "text/x-python",
   "name": "python",
   "nbconvert_exporter": "python",
   "pygments_lexer": "ipython3",
   "version": "3.5.3"
  },
  "toc": {
   "nav_menu": {},
   "number_sections": true,
   "sideBar": true,
   "skip_h1_title": false,
   "title_cell": "Table of Contents",
   "title_sidebar": "Contents",
   "toc_cell": false,
   "toc_position": {},
   "toc_section_display": true,
   "toc_window_display": false
  }
 },
 "nbformat": 4,
 "nbformat_minor": 2
}
