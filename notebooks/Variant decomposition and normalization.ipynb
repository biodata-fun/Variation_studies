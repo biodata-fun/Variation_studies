{
 "cells": [
  {
   "cell_type": "markdown",
   "metadata": {},
   "source": [
    "Different callers represent the same variant in different ways, which makes the comparison between differen call sets complicated. For this reason, it is necessary to have a procedure to normalize the variants.\n",
    "\n",
    "This document presents the different tools and the procedure to standardize the variants. This procedure will take care of:\n",
    "* multiallelic variants\n",
    "* MNPs\n",
    "* normalize indels"
   ]
  },
  {
   "cell_type": "markdown",
   "metadata": {},
   "source": [
    "# Multiallelic variants\n",
    "I use bcftools to split the multiallelic sites into different records. For example we have the following multiallelic SNP site:"
   ]
  },
  {
   "cell_type": "raw",
   "metadata": {},
   "source": [
    "#before running bcftools\n",
    "chr20   10002349        .       CAA     CA,C,CAAA,AAA\n",
    "\n",
    "# after running bcftools\n",
    "chr20   10002349        .       CAA     CA      0\n",
    "chr20   10002349        .       CAA     C       0\n",
    "chr20   10002349        .       CAA     CAAA    0\n",
    "chr20   10002349        .       CAA     AAA     0"
   ]
  },
  {
   "cell_type": "markdown",
   "metadata": {},
   "source": [
    "This splitting is necessary in order for the downstream normalization processes to be effective"
   ]
  },
  {
   "cell_type": "markdown",
   "metadata": {},
   "source": [
    "Command used for this splitting is:"
   ]
  },
  {
   "cell_type": "raw",
   "metadata": {},
   "source": [
    "bcftools norm -m -any $snps.vcf.gz -o $snps.splitted.vcf.gz -Oz"
   ]
  },
  {
   "cell_type": "markdown",
   "metadata": {},
   "source": [
    "# MNPs\n",
    "Multinucleotide polymorphisms can be decomposed and converted to SNVs. For example, we have the following multiallelic SNP site:"
   ]
  },
  {
   "cell_type": "code",
   "execution_count": null,
   "metadata": {},
   "outputs": [],
   "source": [
    "chr20   10012654        .       ATCA    GTCA    409925\n",
    "chr20   10012654        .       ATCA    GTCT    409925"
   ]
  },
  {
   "cell_type": "code",
   "execution_count": null,
   "metadata": {},
   "outputs": [],
   "source": [
    "After decomposition we will have:"
   ]
  },
  {
   "cell_type": "code",
   "execution_count": null,
   "metadata": {},
   "outputs": [],
   "source": [
    "chr20   10012654        .       A       G       409925\n",
    "chr20   10012654        .       A       G       409925\n",
    "chr20   10012657        .       A       T       409925"
   ]
  },
  {
   "cell_type": "markdown",
   "metadata": {},
   "source": [
    "We use vcfallelicprimitives (https://github.com/vcflib/vcflib.git) with the following command line:"
   ]
  },
  {
   "cell_type": "raw",
   "metadata": {},
   "source": [
    "vcfallelicprimitives -k -g $snps.vcf.gz |bgzip -c > snps.decomp.vcf.gz"
   ]
  },
  {
   "cell_type": "markdown",
   "metadata": {},
   "source": [
    "Dealing with INFO annotations and the decomposition. Let's examine the previous example:"
   ]
  },
  {
   "cell_type": "raw",
   "metadata": {},
   "source": [
    "chr20   10012654        .       ATCA    GTCA    409925  .       AB=0.509818;ABP=5.31285;AC=4811;AF=0.909108;AN=5292;AO=15828;CIGAR=1X3M;DP=17544;DPB=18160.2;DPRA=1.50155;EPP=118.625;EPPR=12.9732;GTI=10;LEN=1;MEANALT=1.03825;MQM=59.9912;MQMR=59.9981;NS=2646;NUMALT=2;ODDS=5919.27;PAIRED=0.969484;PAIREDR=0.96402;PAO=612.5;PQA=12995;PQR=7426.5;PRO=409;QA=471353;QR=48039;RO=1612;RPL=8014;RPP=8.49797;RPPR=3.92092;RPR=7814;RUN=1;SAF=9389;SAP=1196.92;SAR=6439;SRF=974;SRP=155.089;SRR=638;TYPE=snp;technology.ILLUMINA=1\n",
    "chr20   10012654        .       ATCA    GTCT    409925  .       AB=0.428571;ABP=3.63072;AC=3;AF=0.000566893;AN=5292;AO=8;CIGAR=1X2M1X;DP=17544;DPB=18160.2;DPRA=1.3534;EPP=4.09604;EPPR=12.9732;GTI=10;LEN=4;MEANALT=2;MQM=60;MQMR=59.9981;NS=2646;NUMALT=2;ODDS=5919.27;PAIRED=1;PAIREDR=0.96402;PAO=271.5;PQA=7313.5;PQR=7426.5;PRO=409;QA=216;QR=48039;RO=1612;RPL=5;RPP=4.09604;RPPR=3.92092;RPR=3;RUN=1;SAF=6;SAP=7.35324;SAR=2;SRF=974;SRP=155.089;SRR=638;TYPE=complex;technology.ILLUMINA=1"
   ]
  },
  {
   "cell_type": "markdown",
   "metadata": {},
   "source": [
    "And after decomposition:"
   ]
  },
  {
   "cell_type": "raw",
   "metadata": {},
   "source": [
    "chr20   10012654        .       A       G       409925  .       AB=0.509818;ABP=5.31285;AC=4811;AF=0.909108;AN=5292;AO=15828;CIGAR=1X3M;DP=17544;DPB=18160.2;DPRA=1.50155;EPP=118.625;EPPR=12.9732;GTI=10;LEN=1;MEANALT=1.03825;MQM=59.9912;MQMR=59.9981;NS=2646;NUMALT=2;ODDS=5919.27;PAIRED=0.969484;PAIREDR=0.96402;PAO=612.5;PQA=12995;PQR=7426.5;PRO=409;QA=471353;QR=48039;RO=1612;RPL=8014;RPP=8.49797;RPPR=3.92092;RPR=7814;RUN=1;SAF=9389;SAP=1196.92;SAR=6439;SRF=974;SRP=155.089;SRR=638;TYPE=snp;technology.ILLUMINA=1\n",
    "chr20   10012654        .       A       G       409925  .       AB=0.428571;ABP=3.63072;AC=3;AF=0.000566893;AN=5292;AO=8;CIGAR=1X2M1X;DP=17544;DPB=18160.2;DPRA=1.3534;EPP=4.09604;EPPR=12.9732;GTI=10;LEN=1;MEANALT=2;MQM=60;MQMR=59.9981;NS=2646;NUMALT=2;ODDS=5919.27;PAIRED=1;PAIREDR=0.96402;PAO=271.5;PQA=7313.5;PQR=7426.5;PRO=409;QA=216;QR=48039;RO=1612;RPL=5;RPP=4.09604;RPPR=3.92092;RPR=3;RUN=1;SAF=6;SAP=7.35324;SAR=2;SRF=974;SRP=155.089;SRR=638;TYPE=snp;technology.ILLUMINA=1\n",
    "chr20   10012657        .       A       T       409925  .       AB=0.428571;ABP=3.63072;AC=3;AF=0.000566893;AN=5292;AO=8;CIGAR=1X2M1X;DP=17544;DPB=18160.2;DPRA=1.3534;EPP=4.09604;EPPR=12.9732;GTI=10;LEN=1;MEANALT=2;MQM=60;MQMR=59.9981;NS=2646;NUMALT=2;ODDS=5919.27;PAIRED=1;PAIREDR=0.96402;PAO=271.5;PQA=7313.5;PQR=7426.5;PRO=409;QA=216;QR=48039;RO=1612;RPL=5;RPP=4.09604;RPPR=3.92092;RPR=3;RUN=1;SAF=6;SAP=7.35324;SAR=2;SRF=974;SRP=155.089;SRR=638;TYPE=snp;technology.ILLUMINA=1"
   ]
  },
  {
   "cell_type": "markdown",
   "metadata": {},
   "source": [
    "Behaviour does not seem to be consistent with site 10012654, which is associated to two different INFO annotations"
   ]
  },
  {
   "cell_type": "markdown",
   "metadata": {},
   "source": [
    "# Normalization of SNVs and INDELs\n",
    "This process is more relevant for INDELs, as this type of variants use to have more variability in its representation.\n",
    "Let's see first what is the effect of normalization for SNVs:"
   ]
  },
  {
   "cell_type": "markdown",
   "metadata": {},
   "source": [
    "## SNVs"
   ]
  },
  {
   "cell_type": "markdown",
   "metadata": {},
   "source": [
    "Normalization is done by using vt (https://github.com/atks/vt.git) normalize with the following command:"
   ]
  },
  {
   "cell_type": "raw",
   "metadata": {},
   "source": [
    "vt normalize -r $ref.fa $snp.vcf.gz |bgzip -c > $snp.norm.vcf.gz"
   ]
  },
  {
   "cell_type": "markdown",
   "metadata": {},
   "source": [
    "Let's see different examples:"
   ]
  },
  {
   "cell_type": "markdown",
   "metadata": {},
   "source": [
    "* Case 1:  \n",
    "Prenormalization:"
   ]
  },
  {
   "cell_type": "raw",
   "metadata": {},
   "source": [
    "chr20   10024466        .       T       A\n",
    "chr20   10024466        .       T       TT # this is not a variant"
   ]
  },
  {
   "cell_type": "markdown",
   "metadata": {},
   "source": [
    "After normalization:"
   ]
  },
  {
   "cell_type": "raw",
   "metadata": {},
   "source": [
    "chr20   10024466        .       T       A"
   ]
  },
  {
   "cell_type": "markdown",
   "metadata": {},
   "source": [
    "# Removing identical sites\n",
    "The procedure of decomposition and normalization may introduce replicated sites that need to be removed. \n",
    "For example:"
   ]
  },
  {
   "cell_type": "code",
   "execution_count": null,
   "metadata": {},
   "outputs": [],
   "source": [
    "chr20   10023499        .       A       G\n",
    "chr20   10023499        .       A       G\n",
    "chr20   10023499        .       A       G"
   ]
  },
  {
   "cell_type": "markdown",
   "metadata": {},
   "source": [
    "These positions should be removed. In our procedure we use vt (https://github.com/atks/vt.git) uniq by using the following command:"
   ]
  },
  {
   "cell_type": "raw",
   "metadata": {},
   "source": [
    " vt uniq $snp.vcf.gz | bgzip -c > $snp.uniq.vcf.gz"
   ]
  }
 ],
 "metadata": {
  "kernelspec": {
   "display_name": "Python 3",
   "language": "python",
   "name": "python3"
  },
  "language_info": {
   "codemirror_mode": {
    "name": "ipython",
    "version": 3
   },
   "file_extension": ".py",
   "mimetype": "text/x-python",
   "name": "python",
   "nbconvert_exporter": "python",
   "pygments_lexer": "ipython3",
   "version": "3.5.3"
  },
  "toc": {
   "nav_menu": {},
   "number_sections": true,
   "sideBar": true,
   "skip_h1_title": false,
   "title_cell": "Table of Contents",
   "title_sidebar": "Contents",
   "toc_cell": false,
   "toc_position": {},
   "toc_section_display": true,
   "toc_window_display": false
  }
 },
 "nbformat": 4,
 "nbformat_minor": 2
}
