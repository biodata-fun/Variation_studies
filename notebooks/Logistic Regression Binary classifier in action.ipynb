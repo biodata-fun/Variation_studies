{
 "cells": [
  {
   "cell_type": "markdown",
   "metadata": {},
   "source": [
    "# Freebayes\n",
    "Firstly, let's prepare the VCF that we want to filter. For this we need to do a series of things for the training of the ML model and for applying the model"
   ]
  },
  {
   "cell_type": "markdown",
   "metadata": {},
   "source": [
    "## Training the model\n",
    "For this, we use NA28178 from GIAB (https://jimb.stanford.edu/giab) as the truth set and we will examine the sites in our call set across all the chromosomes overlapping with the GIAB sites and consider them as true positives."
   ]
  },
  {
   "cell_type": "markdown",
   "metadata": {},
   "source": [
    "Firstly, we need to get the variant sites for NA12878 from our call set:"
   ]
  },
  {
   "cell_type": "raw",
   "metadata": {},
   "source": [
    "working_dir:\n",
    "/nfs/production/reseq-info/work/ernesto/isgr/VARIANT_CALLING/VARCALL_ALLGENOME_13022017/FILTERING/03_2019/FREEBAYES/TRAIN/DATA"
   ]
  },
  {
   "cell_type": "code",
   "execution_count": null,
   "metadata": {},
   "outputs": [],
   "source": [
    "cmd:\n",
    "bcftools view -c1 -G -s NA12878 /nfs/production/reseq-info/work/IGSR_variants/vc_1000g_13022017/LC_EX_DIR2405/lc_ex_bam.freebayes.20170911.vcf.gz -o lc_ex_bam.freebayes.20170911.onlyvariants.onlysites.NA12878.vcf.gz -Oz"
   ]
  },
  {
   "cell_type": "markdown",
   "metadata": {},
   "source": [
    "From here downwards, the process will be different in SNVs and INDELs"
   ]
  },
  {
   "cell_type": "markdown",
   "metadata": {},
   "source": [
    "### SNVs"
   ]
  },
  {
   "cell_type": "markdown",
   "metadata": {},
   "source": [
    "* Normalization of SNVs\n",
    "This is necessary in order to make a proper comparison with GIAB"
   ]
  },
  {
   "cell_type": "code",
   "execution_count": null,
   "metadata": {},
   "outputs": [],
   "source": [
    "working_dir:\n",
    "/nfs/production/reseq-info/work/ernesto/isgr/VARIANT_CALLING/VARCALL_ALLGENOME_13022017/FILTERING/03_2019/FREEBAYES/TRAIN/SNVs/NORMALIZATION"
   ]
  },
  {
   "cell_type": "markdown",
   "metadata": {},
   "source": [
    "For normalizaton I will use my Nextflow pipeline executed with the following command"
   ]
  },
  {
   "cell_type": "raw",
   "metadata": {},
   "source": [
    "/nfs/production/reseq-info/work/ernesto/bin/nextflow run /homes/ernesto/lib/igsr_analysis_master/igsr_analysis/scripts/VCF/NORMALIZATION/normalize_vcf.nf --vcf /nfs/production/reseq-info/work/ernesto/isgr/VARIANT_CALLING/VARCALL_ALLGENOME_13022017/FILTERING/03_2019/FREEBAYES/TRAIN/DATA/lc_ex_bam.freebayes.20170911.onlyvariants.onlysites.NA12878.vcf.gz -with-singularity /nfs/production/reseq-info/work/ernesto/isgr/VARIANT_CALLING/VARCALL_ALLGENOME_13022017/FILTERING/05_2017/LC_DIR/BCFTOOLS/DEVEL/ALL_SAMPLES/DATA/variant_filtering.simg --ref /nfs/production/reseq-info/work/reference/GRCh38/GRCh38_full_analysis_set_plus_decoy_hla.fa --vt snps --outprefix lc_ex_bam.freebayes.20170911.onlyvariants.onlysites.NA12878 --threads 5"
   ]
  },
  {
   "cell_type": "markdown",
   "metadata": {},
   "source": [
    "### INDELs"
   ]
  },
  {
   "cell_type": "code",
   "execution_count": null,
   "metadata": {},
   "outputs": [],
   "source": [
    "* Normalization of INDELs\n",
    "This is necessary in order to make a proper comparison with GIAB"
   ]
  }
 ],
 "metadata": {
  "kernelspec": {
   "display_name": "Python 3",
   "language": "python",
   "name": "python3"
  },
  "language_info": {
   "codemirror_mode": {
    "name": "ipython",
    "version": 3
   },
   "file_extension": ".py",
   "mimetype": "text/x-python",
   "name": "python",
   "nbconvert_exporter": "python",
   "pygments_lexer": "ipython3",
   "version": "3.5.3"
  },
  "toc": {
   "nav_menu": {},
   "number_sections": true,
   "sideBar": true,
   "skip_h1_title": false,
   "title_cell": "Table of Contents",
   "title_sidebar": "Contents",
   "toc_cell": false,
   "toc_position": {},
   "toc_section_display": true,
   "toc_window_display": false
  }
 },
 "nbformat": 4,
 "nbformat_minor": 2
}
