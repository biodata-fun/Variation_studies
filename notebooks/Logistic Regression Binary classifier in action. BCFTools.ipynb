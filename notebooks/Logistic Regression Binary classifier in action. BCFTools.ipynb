{
 "cells": [
  {
   "cell_type": "markdown",
   "metadata": {},
   "source": [
    "# BCFTools\n",
    "Firstly, let's prepare the VCF that we want to filter. For this we need to do a series of things for the training of the ML model and for applying the model"
   ]
  },
  {
   "cell_type": "markdown",
   "metadata": {},
   "source": [
    "## Training the model\n",
    "For this, we use NA28178 from GIAB (https://jimb.stanford.edu/giab) as the truth set and we will examine the sites in our call set across all the chromosomes overlapping with the GIAB sites and consider them as true positives."
   ]
  },
  {
   "cell_type": "markdown",
   "metadata": {},
   "source": [
    "Firstly, we need to get the variant sites for NA12878 from our call set:"
   ]
  },
  {
   "cell_type": "raw",
   "metadata": {},
   "source": [
    "working_dir:\n",
    "/nfs/production/reseq-info/work/ernesto/isgr/VARIANT_CALLING/VARCALL_ALLGENOME_13022017/FILTERING/03_2019/BCFTOOLS/TRAIN/DATA"
   ]
  },
  {
   "cell_type": "raw",
   "metadata": {},
   "source": [
    "cmd:\n",
    "bcftools view -c1 -G -s NA12878 /nfs/production/reseq-info/work/IGSR_variants/vc_1000g_13022017/LCDIR/lc_bams.bcftools.20170319.vcf.gz -o lc_bams.bcftools.20170319.onlyvariants.onlysites.NA12878.vcf.gz -Oz"
   ]
  },
  {
   "cell_type": "markdown",
   "metadata": {},
   "source": [
    "From here downwards, the process will be different in SNVs and INDELs"
   ]
  },
  {
   "cell_type": "markdown",
   "metadata": {},
   "source": [
    "### SNVs"
   ]
  },
  {
   "cell_type": "markdown",
   "metadata": {},
   "source": [
    "* Normalization of SNVs  \n",
    "This is necessary in order to make a proper comparison with GIAB"
   ]
  },
  {
   "cell_type": "raw",
   "metadata": {},
   "source": [
    "working_dir:\n",
    "/nfs/production/reseq-info/work/ernesto/isgr/VARIANT_CALLING/VARCALL_ALLGENOME_13022017/FILTERING/03_2019/BCFTOOLS/TRAIN/SNVs/NORMALIZATION"
   ]
  },
  {
   "cell_type": "markdown",
   "metadata": {},
   "source": [
    "For normalizaton I will use my Nextflow pipeline executed with the following command"
   ]
  },
  {
   "cell_type": "raw",
   "metadata": {},
   "source": [
    "/nfs/production/reseq-info/work/ernesto/bin/nextflow run /homes/ernesto/lib/igsr_analysis_master/igsr_analysis/scripts/VCF/NORMALIZATION/normalize_vcf.nf --vcf /nfs/production/reseq-info/work/ernesto/isgr/VARIANT_CALLING/VARCALL_ALLGENOME_13022017/FILTERING/03_2019/BCFTOOLS/TRAIN/DATA/lc_bams.bcftools.20170319.onlyvariants.onlysites.NA12878.vcf.gz -with-singularity /nfs/production/reseq-info/work/ernesto/isgr/VARIANT_CALLING/VARCALL_ALLGENOME_13022017/FILTERING/05_2017/LC_DIR/BCFTOOLS/DEVEL/ALL_SAMPLES/DATA/variant_filtering.simg --ref /nfs/production/reseq-info/work/reference/GRCh38/GRCh38_full_analysis_set_plus_decoy_hla.fa --vt snps --outprefix lc_bams.bcftools.20170319.onlyvariants.onlysites.NA12878 --threads 5"
   ]
  },
  {
   "cell_type": "markdown",
   "metadata": {},
   "source": [
    "* Now we train the model using only variants in chr20 that are in high-conf regions from GIAB"
   ]
  },
  {
   "cell_type": "raw",
   "metadata": {},
   "source": [
    "working dir:\n",
    "/nfs/production/reseq-info/work/ernesto/isgr/VARIANT_CALLING/VARCALL_ALLGENOME_13022017/FILTERING/03_2019/BCFTOOLS/TRAIN/SNVs/TRAIN_CHR20"
   ]
  },
  {
   "cell_type": "markdown",
   "metadata": {},
   "source": [
    "Let's select the variants in chr20:"
   ]
  },
  {
   "cell_type": "raw",
   "metadata": {},
   "source": [
    "bcftools view -r chr20 /nfs/production/reseq-info/work/ernesto/isgr/VARIANT_CALLING/VARCALL_ALLGENOME_13022017/FILTERING/03_2019/BCFTOOLS/TRAIN/SNVs/NORMALIZATION/work/d5/b4691a6a1be333e7c6c4ff0e881bdd/lc_bams.bcftools.20170319.onlyvariants.onlysites.NA12878.normalized.vcf.gz -o lc_bams.bcftools.20170319.onlyvariants.onlysites.NA12878.normalized.chr20.vcf.gz -Oz"
   ]
  },
  {
   "cell_type": "markdown",
   "metadata": {},
   "source": [
    "And now, let's use for training the variants in the GIAB high-conf regions:"
   ]
  },
  {
   "cell_type": "raw",
   "metadata": {},
   "source": [
    "/nfs/production/reseq-info/work/bin/bcftools-1.9/bcftools view -R /nfs/production/reseq-info/work/ernesto/isgr/SUPPORTING/REFERENCE/GIAB/chr20DIR/HIGH_CONF_REGIONS/HG001_GRCh38_GIAB_highconf_CG-IllFB-IllGATKHC-Ion-10X-SOLID_CHROM1-X_v.3.3.2_highconf_nosomaticdel_noCENorHET7.chr20.bed lc_bams.bcftools.20170319.onlyvariants.onlysites.NA12878.normalized.chr20.vcf.gz -o lc_bams.bcftools.20170319.onlyvariants.onlysites.NA12878.normalized.chr20.inhighconf.vcf.gz -Oz"
   ]
  },
  {
   "cell_type": "markdown",
   "metadata": {},
   "source": [
    "#### RFE\n",
    "The Recursive Feature Elimination will help to select the variant annotations that are more useful in order the select the real SNVs:"
   ]
  },
  {
   "cell_type": "raw",
   "metadata": {},
   "source": [
    "work dir:\n",
    "/nfs/production/reseq-info/work/ernesto/isgr/VARIANT_CALLING/VARCALL_ALLGENOME_13022017/FILTERING/03_2019/BCFTOOLS/TRAIN/SNVs/TRAIN_CHR20/RFE/"
   ]
  },
  {
   "cell_type": "markdown",
   "metadata": {},
   "source": [
    "We will select 11 features out of the 12 annotations that BCFTools generates. So no RFE is necessary\n",
    "DP4 is not selected as this annotation has the following format: DP4=3323,2968,3877,333 even after decomposition"
   ]
  },
  {
   "cell_type": "markdown",
   "metadata": {},
   "source": [
    "And now we can run the Nextflow pipeline for training the model using GIAB NA12878:"
   ]
  },
  {
   "cell_type": "raw",
   "metadata": {},
   "source": [
    "/nfs/production/reseq-info/work/ernesto/bin/nextflow -C /homes/ernesto/lib/igsr_analysis_master/igsr_analysis/scripts/VCF/FILTER/MLfilter_trainmodel.config run /homes/ernesto/lib/igsr_analysis_master/igsr_analysis/scripts/VCF/FILTER/MLfilter_trainmodel.nf --vcf /nfs/production/reseq-info/work/ernesto/isgr/VARIANT_CALLING/VARCALL_ALLGENOME_13022017/FILTERING/03_2019/BCFTOOLS/TRAIN/SNVs/TRAIN_CHR20/lc_bams.bcftools.20170319.onlyvariants.onlysites.NA12878.normalized.chr20.inhighconf.vcf.gz --true /nfs/production/reseq-info/work/ernesto/isgr/SUPPORTING/REFERENCE/GIAB/ANALYSIS_READY/ALL_CHROS/SNPS/final_dir/NA12878.giab.SNP.non_valid.chr20.biallelic.vcf.gz --annotations '%CHROM\\t%POS\\t%QUAL\\t%INFO/DP\\t%INFO/BQB\\t%INFO/HOB\\t%INFO/ICB\\t%INFO/MQ\\t%INFO/MQ0F\\t%INFO/MQB\\t%INFO/MQSB\\t%INFO/RPB\\t%INFO/SGB\\t%INFO/VDB\\n' --vt snps"
   ]
  },
  {
   "cell_type": "markdown",
   "metadata": {},
   "source": [
    "[LibLinear]Score for the logistic regression fitted model is: 0.9901738961794557"
   ]
  },
  {
   "cell_type": "markdown",
   "metadata": {},
   "source": [
    "### INDELs"
   ]
  },
  {
   "cell_type": "markdown",
   "metadata": {},
   "source": [
    "* Normalization of INDELs  \n",
    "This is necessary in order to make a proper comparison with GIAB"
   ]
  },
  {
   "cell_type": "raw",
   "metadata": {},
   "source": [
    "working_dir:\n",
    "/nfs/production/reseq-info/work/ernesto/isgr/VARIANT_CALLING/VARCALL_ALLGENOME_13022017/FILTERING/03_2019/BCFTOOLS/TRAIN/INDELS/NORMALIZATION"
   ]
  },
  {
   "cell_type": "markdown",
   "metadata": {},
   "source": [
    "For normalizaton I will use my Nextflow pipeline executed with the following command:"
   ]
  },
  {
   "cell_type": "raw",
   "metadata": {},
   "source": [
    "/nfs/production/reseq-info/work/ernesto/bin/nextflow run /homes/ernesto/lib/igsr_analysis_master/igsr_analysis/scripts/VCF/NORMALIZATION/normalize_vcf.nf --vcf /nfs/production/reseq-info/work/ernesto/isgr/VARIANT_CALLING/VARCALL_ALLGENOME_13022017/FILTERING/03_2019/BCFTOOLS/TRAIN/DATA/lc_bams.bcftools.20170319.onlyvariants.onlysites.NA12878.vcf.gz --ref /nfs/production/reseq-info/work/reference/GRCh38/GRCh38_full_analysis_set_plus_decoy_hla.fa --vt indels --outprefix lc_bams.bcftools.20170319.indels.onlyvariants.onlysites.NA12878 --threads 5 --tmpdir /nfs/production/reseq-info/work/ernesto/isgr/VARIANT_CALLING/VARCALL_ALLGENOME_13022017/FILTERING/03_2019/BCFTOOLS/TRAIN/INDELS/NORMALIZATION/tmpdir -with-singularity /nfs/production/reseq-info/work/ernesto/isgr/VARIANT_CALLING/VARCALL_ALLGENOME_13022017/FILTERING/05_2017/LC_DIR/BCFTOOLS/DEVEL/ALL_SAMPLES/DATA/variant_filtering.simg"
   ]
  },
  {
   "cell_type": "markdown",
   "metadata": {},
   "source": [
    "#### Train of INDELs\n",
    "We will select 11 features out of the 12 annotations that BCFTools generates. So no RFE is necessary\n",
    "DP4 is not selected as this annotation has the following format: DP4=3323,2968,3877,333 even after decomposition.\n",
    "Because there are not enough INDELs in chr20, we need to use the INDEL in all the chros"
   ]
  },
  {
   "cell_type": "markdown",
   "metadata": {},
   "source": [
    "And now we can run the Nextflow pipeline for training the model using GIAB NA12878:"
   ]
  },
  {
   "cell_type": "raw",
   "metadata": {},
   "source": [
    "working dir:\n",
    "/nfs/production/reseq-info/work/ernesto/isgr/VARIANT_CALLING/VARCALL_ALLGENOME_13022017/FILTERING/03_2019/BCFTOOLS/TRAIN/INDELS/TRAIN"
   ]
  },
  {
   "cell_type": "raw",
   "metadata": {},
   "source": [
    "/nfs/production/reseq-info/work/ernesto/bin/nextflow -C /homes/ernesto/lib/igsr_analysis_master/igsr_analysis/scripts/VCF/FILTER/MLfilter_trainmodel.config run /homes/ernesto/lib/igsr_analysis_master/igsr_analysis/scripts/VCF/FILTER/MLfilter_trainmodel.nf --vcf /nfs/production/reseq-info/work/ernesto/isgr/VARIANT_CALLING/VARCALL_ALLGENOME_13022017/FILTERING/03_2019/BCFTOOLS/TRAIN/INDELS/NORMALIZATION/work/d3/788fc3b901e556a286a02e424ac90d/lc_bams.bcftools.20170319.indels.onlyvariants.onlysites.NA12878.normalized.vcf.gz --true /nfs/production/reseq-info/work/ernesto/isgr/SUPPORTING/REFERENCE/GIAB/ANALYSIS_READY/NA12878.giab.INDEL.inghighconf.non_valid.vcf.gz --annotations '%CHROM\\t%POS\\t%QUAL\\t%INFO/IDV\\t%INFO/IMF\\t%INFO/DP\\t%INFO/VDB\\t%INFO/MQSB\\t%INFO/SGB\\t%INFO/MQ0F\\t%INFO/ICB\\t%INFO/HOB\\t%INFO/MQ\\n' --vt indels"
   ]
  },
  {
   "cell_type": "markdown",
   "metadata": {},
   "source": [
    "[LibLinear]Score for the logistic regression fitted model is: 0.7577405372829892"
   ]
  },
  {
   "cell_type": "markdown",
   "metadata": {},
   "source": [
    "## Applying the model\n",
    "This section relates how to apply the fitted logistic regression model that has been generated in the `Training the model` section"
   ]
  },
  {
   "cell_type": "markdown",
   "metadata": {},
   "source": [
    "### chr20"
   ]
  },
  {
   "cell_type": "raw",
   "metadata": {},
   "source": [
    "working_dir:\n",
    "/nfs/production/reseq-info/work/ernesto/isgr/VARIANT_CALLING/VARCALL_ALLGENOME_13022017/FILTERING/03_2019/BCFTOOLS/APPLY/NORMALIZATION/CHR20"
   ]
  },
  {
   "cell_type": "markdown",
   "metadata": {},
   "source": [
    "First thing is to select the chr20 from the unfiltered call set:"
   ]
  },
  {
   "cell_type": "raw",
   "metadata": {},
   "source": [
    "bcftools view -r chr20 /nfs/production/reseq-info/work/IGSR_variants/vc_1000g_13022017/LCDIR/lc_bams.bcftools.20170319.vcf.gz -o lc_bams.bcftools.20170319.chr20.vcf.gz -Oz --threads 5"
   ]
  },
  {
   "cell_type": "markdown",
   "metadata": {},
   "source": [
    "#### SNVs\n",
    "We need to normalize the VCF that will be filtered.\n",
    "In order to check that the process is working I will use only the chr20"
   ]
  },
  {
   "cell_type": "raw",
   "metadata": {},
   "source": [
    "working_dir:\n",
    "/nfs/production/reseq-info/work/ernesto/isgr/VARIANT_CALLING/VARCALL_ALLGENOME_13022017/FILTERING/03_2019/BCFTOOLS/APPLY/NORMALIZATION/CHR20"
   ]
  },
  {
   "cell_type": "markdown",
   "metadata": {},
   "source": [
    "And then we can use the normalization pipeline:"
   ]
  },
  {
   "cell_type": "raw",
   "metadata": {},
   "source": [
    "/nfs/production/reseq-info/work/ernesto/bin/nextflow run /homes/ernesto/lib/igsr_analysis_master/igsr_analysis/scripts/VCF/NORMALIZATION/normalize_vcf.nf --vcf /nfs/production/reseq-info/work/ernesto/isgr/VARIANT_CALLING/VARCALL_ALLGENOME_13022017/FILTERING/03_2019/BCFTOOLS/APPLY/NORMALIZATION/CHR20/lc_bams.bcftools.20170319.chr20.vcf.gz --ref /nfs/production/reseq-info/work/reference/GRCh38/GRCh38_full_analysis_set_plus_decoy_hla.fa --vt snps --outprefix lc_bams.bcftools.20170319.chr20.snvs.norm --threads 5 --tmpdir /nfs/production/reseq-info/work/ernesto/isgr/VARIANT_CALLING/VARCALL_ALLGENOME_13022017/FILTERING/03_2019/BCFTOOLS/APPLY/NORMALIZATION/CHR20/tmpdir/ -with-singularity /nfs/production/reseq-info/work/ernesto/isgr/VARIANT_CALLING/VARCALL_ALLGENOME_13022017/FILTERING/05_2017/LC_DIR/BCFTOOLS/DEVEL/ALL_SAMPLES/DATA/variant_filtering.simg"
   ]
  },
  {
   "cell_type": "markdown",
   "metadata": {},
   "source": [
    "And then we can use the Nextflow pipeline with the fitted model produced in the `Training the model` section in order to apply the filtering on chr20:"
   ]
  },
  {
   "cell_type": "code",
   "execution_count": null,
   "metadata": {},
   "outputs": [],
   "source": [
    "working_dir:\n",
    "/nfs/production/reseq-info/work/ernesto/isgr/VARIANT_CALLING/VARCALL_ALLGENOME_13022017/FILTERING/03_2019/BCFTOOLS/APPLY/SNVS/chr20"
   ]
  },
  {
   "cell_type": "raw",
   "metadata": {},
   "source": [
    "/nfs/production/reseq-info/work/ernesto/bin/nextflow -C /homes/ernesto/lib/igsr_analysis_master/igsr_analysis/scripts/VCF/FILTER/MLfilter_applymodel.config run /homes/ernesto/lib/igsr_analysis_master/igsr_analysis/scripts/VCF/FILTER/MLfilter_applymodel.nf --vcf /nfs/production/reseq-info/work/ernesto/isgr/VARIANT_CALLING/VARCALL_ALLGENOME_13022017/FILTERING/03_2019/BCFTOOLS/APPLY/NORMALIZATION/CHR20/norm_file/lc_bams.bcftools.20170319.chr20.snvs.norm.normalized.vcf.gz --model /nfs/production/reseq-info/work/ernesto/isgr/VARIANT_CALLING/VARCALL_ALLGENOME_13022017/FILTERING/03_2019/BCFTOOLS/TRAIN/SNVs/TRAIN_CHR20/trained_model/fitted_logreg_vts.sav --annotations '%CHROM\\t%POS\\t%QUAL\\t%INFO/DP\\t%INFO/BQB\\t%INFO/HOB\\t%INFO/ICB\\t%INFO/MQ\\t%INFO/MQ0F\\t%INFO/MQB\\t%INFO/MQSB\\t%INFO/RPB\\t%INFO/SGB\\t%INFO/VDB\\n' --vt snps --threads 5"
   ]
  },
  {
   "cell_type": "markdown",
   "metadata": {},
   "source": [
    "* Assessing the quality of the filtered and unfiltered VCF with GIAB NA12878:"
   ]
  },
  {
   "cell_type": "markdown",
   "metadata": {},
   "source": [
    "**PREFILTER:**"
   ]
  },
  {
   "cell_type": "raw",
   "metadata": {},
   "source": [
    "work dir:\n",
    "/nfs/production/reseq-info/work/ernesto/isgr/VARIANT_CALLING/VARCALL_ALLGENOME_13022017/FILTERING/03_2019/BCFTOOLS/APPLY/SNVS/chr20/GIAB/PREFILTER"
   ]
  },
  {
   "cell_type": "raw",
   "metadata": {},
   "source": [
    "/nfs/production/reseq-info/work/ernesto/bin/nextflow -C /homes/ernesto/lib/igsr_analysis_master/igsr_analysis/scripts/VCF/QC/compare_with_giab.config run /homes/ernesto/lib/igsr_analysis_master/igsr_analysis/scripts/VCF/QC/compare_with_giab.nf --vcf /nfs/production/reseq-info/work/ernesto/isgr/VARIANT_CALLING/VARCALL_ALLGENOME_13022017/FILTERING/03_2019/BCFTOOLS/APPLY/NORMALIZATION/CHR20/norm_file/lc_bams.bcftools.20170319.chr20.snvs.norm.normalized.NA12878.vcf.gz --giab /nfs/production/reseq-info/work/ernesto/isgr/SUPPORTING/REFERENCE/GIAB/ANALYSIS_READY/CHR20/NA12878.giab.SNP.chr20.non_valid.reheaded.vcf.gz --vt snps --chros chr20 -with-singularity /nfs/production/reseq-info/work/ernesto/isgr/VARIANT_CALLING/VARCALL_ALLGENOME_13022017/FILTERING/05_2017/LC_DIR/BCFTOOLS/DEVEL/ALL_SAMPLES/DATA/variant_filtering.simg"
   ]
  },
  {
   "cell_type": "markdown",
   "metadata": {},
   "source": [
    "**POSTFILTER:**"
   ]
  },
  {
   "cell_type": "raw",
   "metadata": {},
   "source": [
    "work dir:\n",
    "/nfs/production/reseq-info/work/ernesto/isgr/VARIANT_CALLING/VARCALL_ALLGENOME_13022017/FILTERING/03_2019/BCFTOOLS/APPLY/SNVS/chr20/GIAB/POSTFILTER"
   ]
  },
  {
   "cell_type": "raw",
   "metadata": {},
   "source": [
    "/nfs/production/reseq-info/work/ernesto/bin/nextflow -C /homes/ernesto/lib/igsr_analysis_master/igsr_analysis/scripts/VCF/QC/compare_with_giab.config run /homes/ernesto/lib/igsr_analysis_master/igsr_analysis/scripts/VCF/QC/compare_with_giab.nf --vcf /nfs/production/reseq-info/work/ernesto/isgr/VARIANT_CALLING/VARCALL_ALLGENOME_13022017/FILTERING/03_2019/BCFTOOLS/APPLY/SNVS/chr20/results_chr20/filt_1.na12878.vcf.gz --giab /nfs/production/reseq-info/work/ernesto/isgr/SUPPORTING/REFERENCE/GIAB/ANALYSIS_READY/CHR20/NA12878.giab.SNP.chr20.non_valid.reheaded.vcf.gz --vt snps --chros chr20"
   ]
  },
  {
   "cell_type": "markdown",
   "metadata": {},
   "source": [
    "**QC:**"
   ]
  },
  {
   "cell_type": "markdown",
   "metadata": {},
   "source": [
    "| Dataset       | shared (TP)  | giab_only (FN)| Igsr_only (FP) | total in giab | total in igsr |\n",
    "| ------------- | ------------ | ------------- | -------------- | ------------- | ------------- |\n",
    "| *Prefilter*   |60,814 (90.8%) |6,136 (9.2%)  | 1,062 (1.7%) | 66,950 (100%) | 61,876 (100%) |\n",
    "| *Postfilter (c:0.5)* | 60,814 (90.8%)|6,136 (9.2%)  | 1,062 (1.7%) | 66,950 (100%) | 61,876 (100%) |\n",
    "| *Postfilter (c:0.6)* | 60,814 (90.8%)|6,136 (9.2%)  | 1,062 (1.7%) | 66,950 (100%) | 61,876 (100%) |\n",
    "| *Postfilter (c:0.7)* | 60,814 (90.8%)|6,136 (9.2%)  | 1,062 (1.7%) | 66,950 (100%) | 61,876 (100%) |\n",
    "| *Postfilter (c:0.8)* | 60,814 (90.8%)|6,136 (9.2%)  | 1,062 (1.7%) | 66,950 (100%) | 61,876 (100%) |\n",
    "| *Postfilter (c:0.9)* | 60,813 (90.8%)|6,137 (9.2%) | 1,055 (1.7%) | 66,950 (100%) | 61,868 (100%) |\n",
    "| *Postfilter (c:0.91)* | 60,812 (90.8%)| 6,138 (9.2%)| 1,053 (1.7%)| 66,950 (100%) | 61,865 (100%) |\n",
    "| *Postfilter (c:0.92)* | 60,812 (90.8%)| 6,138 (9.2%)| 1,053 (1.7%)| 66,950 (100%) | 61,865 (100%) |\n",
    "| *Postfilter (c:0.93)* | 60,806 (90.8%)|6,144 (9.2%) |1,053 (1.7%)| 66,950 (100%) | 61,859(100%) |\n",
    "| *Postfilter (c:0.94)* | 60,800 (90.8%)|6,150 (9.2%)|1,052 (1.7%)| 66,950 (100%) | 61,852(100%) |\n",
    "| *Postfilter (c:0.95)* | 60,780 (90.8%)|6,170 (9.2%)|1,046 (1.7%)| 66,950 (100%) | 61,826(100%) |\n",
    "| *Postfilter (c:0.96)* |60,706 (90.7%)|6,244 (9.3%)|1,030 (1.7%)| 66,950 (100%) |61,736 (100%) |\n",
    "| *Postfilter (c:0.97)* |60,424 (90.3%) |6,526 (9.7%) |868 (1.4%)| 66,950 (100%) | 61,292 (100%) |\n",
    "| *Postfilter (c:0.98)* | 59329 (88.6%) |7621 (11.4%)|581 (1.0%)| 66,950 (100%) | 59,910 (100%) |\n",
    "| *Postfilter (c:0.99)* | 52,252 (78.0%) |14,698 (22.0%)|384 (0.7%)| 66,950 (100%) | 52,636 (100%) |\n",
    "| *Postfilter (c:1.00)* | 0 (100%)| 66950 (100%) | 0 (100%) | 66,950 (100%) | 0 (100%) |\n",
    "| *Notebook filter* | 57,112 (85.3%)| 9,838 (14.7%) | 973 (1.7%) | 66,950 (100%) | 58,085 (100%) |"
   ]
  },
  {
   "cell_type": "markdown",
   "metadata": {},
   "source": [
    "**FILTERED with Notebook FILTER**  \n",
    "This section is on GIAB NA12878 benchmarking vs chr20 SNV BCFTools VCF filtered using the Notebook filter:"
   ]
  },
  {
   "cell_type": "markdown",
   "metadata": {},
   "source": [
    "work dir:\n",
    "/nfs/production/reseq-info/work/ernesto/isgr/VARIANT_CALLING/VARCALL_ALLGENOME_13022017/FILTERING/03_2019/BCFTOOLS/APPLY/SNVS/chr20_notebook_filter"
   ]
  },
  {
   "cell_type": "markdown",
   "metadata": {},
   "source": [
    "First, let's get the variants for chr20:"
   ]
  },
  {
   "cell_type": "code",
   "execution_count": null,
   "metadata": {},
   "outputs": [],
   "source": [
    "bcftools view -G -v snps -s NA12878 -r chr20 /nfs/production/reseq-info/work/ernesto/isgr/VARIANT_CALLING/VARCALL_ALLGENOME_13022017/FILTERING/05_2017/LC_DIR/BCFTOOLS/WHOLE_GENOME/final_dir/lc_bams.bcftools.20170703.filt.vcf.gz -o lc_bams.bcftools.20170703.chr20.snps.filt.NA12878.sites.vcf.gz -Oz"
   ]
  },
  {
   "cell_type": "markdown",
   "metadata": {},
   "source": [
    "#### INDELs\n",
    "We need to normalize the VCF that will be filtered.\n",
    "In order to check that the process is working I will use only the chr20"
   ]
  },
  {
   "cell_type": "raw",
   "metadata": {},
   "source": [
    "working_dir:\n",
    "/nfs/production/reseq-info/work/ernesto/isgr/VARIANT_CALLING/VARCALL_ALLGENOME_13022017/FILTERING/03_2019/BCFTOOLS/APPLY/NORMALIZATION/CHR20"
   ]
  },
  {
   "cell_type": "code",
   "execution_count": null,
   "metadata": {},
   "outputs": [],
   "source": [
    "And then we can use the normalization pipeline:"
   ]
  },
  {
   "cell_type": "raw",
   "metadata": {},
   "source": [
    "/nfs/production/reseq-info/work/ernesto/bin/nextflow run /homes/ernesto/lib/igsr_analysis_master/igsr_analysis/scripts/VCF/NORMALIZATION/normalize_vcf.nf --vcf /nfs/production/reseq-info/work/ernesto/isgr/VARIANT_CALLING/VARCALL_ALLGENOME_13022017/FILTERING/03_2019/BCFTOOLS/APPLY/NORMALIZATION/CHR20/lc_bams.bcftools.20170319.chr20.vcf.gz --ref /nfs/production/reseq-info/work/reference/GRCh38/GRCh38_full_analysis_set_plus_decoy_hla.fa --vt indels --outprefix lc_bams.bcftools.20170319.chr20.indels.norm --threads 5 --tmpdir /nfs/production/reseq-info/work/ernesto/isgr/VARIANT_CALLING/VARCALL_ALLGENOME_13022017/FILTERING/03_2019/BCFTOOLS/APPLY/NORMALIZATION/CHR20/tmpdir/ -with-singularity /nfs/production/reseq-info/work/ernesto/isgr/VARIANT_CALLING/VARCALL_ALLGENOME_13022017/FILTERING/05_2017/LC_DIR/BCFTOOLS/DEVEL/ALL_SAMPLES/DATA/variant_filtering.simg"
   ]
  },
  {
   "cell_type": "markdown",
   "metadata": {},
   "source": [
    "And then we can use the Nextflow pipeline with the fitted model produced in the `Training the model` section in order to apply the filtering on chr20:"
   ]
  },
  {
   "cell_type": "raw",
   "metadata": {},
   "source": [
    "working_dir:\n",
    "/nfs/production/reseq-info/work/ernesto/isgr/VARIANT_CALLING/VARCALL_ALLGENOME_13022017/FILTERING/03_2019/BCFTOOLS/APPLY/INDELS/chr20"
   ]
  },
  {
   "cell_type": "raw",
   "metadata": {},
   "source": [
    "/nfs/production/reseq-info/work/ernesto/bin/nextflow -C /homes/ernesto/lib/igsr_analysis_master/igsr_analysis/scripts/VCF/FILTER/MLfilter_applymodel.config run /homes/ernesto/lib/igsr_analysis_master/igsr_analysis/scripts/VCF/FILTER/MLfilter_applymodel.nf --vcf /nfs/production/reseq-info/work/ernesto/isgr/VARIANT_CALLING/VARCALL_ALLGENOME_13022017/FILTERING/03_2019/BCFTOOLS/APPLY/NORMALIZATION/CHR20/norm_file/lc_bams.bcftools.20170319.chr20.indels.norm.normalized.vcf.gz --model /nfs/production/reseq-info/work/ernesto/isgr/VARIANT_CALLING/VARCALL_ALLGENOME_13022017/FILTERING/03_2019/BCFTOOLS/TRAIN/INDELS/TRAIN/trained_model/fitted_logreg_vts.sav --annotations '%CHROM\\t%POS\\t%QUAL\\t%INFO/IDV\\t%INFO/IMF\\t%INFO/DP\\t%INFO/VDB\\t%INFO/MQSB\\t%INFO/SGB\\t%INFO/MQ0F\\t%INFO/ICB\\t%INFO/HOB\\t%INFO/MQ\\n' --vt indels --threads 5"
   ]
  },
  {
   "cell_type": "markdown",
   "metadata": {},
   "source": [
    "* Assessing the quality of the filtered and unfiltered VCF with GIAB NA12878:"
   ]
  },
  {
   "cell_type": "markdown",
   "metadata": {},
   "source": [
    "**PREFILTER:**"
   ]
  },
  {
   "cell_type": "raw",
   "metadata": {},
   "source": [
    "work dir:\n",
    "/nfs/production/reseq-info/work/ernesto/isgr/VARIANT_CALLING/VARCALL_ALLGENOME_13022017/FILTERING/03_2019/BCFTOOLS/APPLY/INDELS/chr20/GIAB/PREFILTER"
   ]
  },
  {
   "cell_type": "raw",
   "metadata": {},
   "source": [
    "/nfs/production/reseq-info/work/ernesto/bin/nextflow -C /homes/ernesto/lib/igsr_analysis_master/igsr_analysis/scripts/VCF/QC/compare_with_giab.config run /homes/ernesto/lib/igsr_analysis_master/igsr_analysis/scripts/VCF/QC/compare_with_giab.nf --vcf /nfs/production/reseq-info/work/ernesto/isgr/VARIANT_CALLING/VARCALL_ALLGENOME_13022017/FILTERING/03_2019/BCFTOOLS/APPLY/NORMALIZATION/CHR20/norm_file/lc_bams.bcftools.20170319.chr20.indels.norm.normalized.NA12878.vcf.gz --giab /nfs/production/reseq-info/work/ernesto/isgr/SUPPORTING/REFERENCE/GIAB/ANALYSIS_READY/CHR20/NA12878.giab.INDEL.chr20.non_valid.reheaded.vcf.gz --vt indels --chros chr20 -with-singularity /nfs/production/reseq-info/work/ernesto/isgr/VARIANT_CALLING/VARCALL_ALLGENOME_13022017/FILTERING/05_2017/LC_DIR/BCFTOOLS/DEVEL/ALL_SAMPLES/DATA/variant_filtering.simg"
   ]
  },
  {
   "cell_type": "markdown",
   "metadata": {},
   "source": [
    "**POSTFILTER:**"
   ]
  },
  {
   "cell_type": "raw",
   "metadata": {},
   "source": [
    "work dir:\n",
    "/nfs/production/reseq-info/work/ernesto/isgr/VARIANT_CALLING/VARCALL_ALLGENOME_13022017/FILTERING/03_2019/BCFTOOLS/APPLY/INDELS/chr20/GIAB/POSTFILTER"
   ]
  },
  {
   "cell_type": "raw",
   "metadata": {},
   "source": [
    "/nfs/production/reseq-info/work/ernesto/bin/nextflow -C /homes/ernesto/lib/igsr_analysis_master/igsr_analysis/scripts/VCF/QC/compare_with_giab.config run /homes/ernesto/lib/igsr_analysis_master/igsr_analysis/scripts/VCF/QC/compare_with_giab.nf --vcf /nfs/production/reseq-info/work/ernesto/isgr/VARIANT_CALLING/VARCALL_ALLGENOME_13022017/FILTERING/03_2019/BCFTOOLS/APPLY/INDELS/chr20/results_chr20/filt_0_1.NA12878.vcf.gz --giab /nfs/production/reseq-info/work/ernesto/isgr/SUPPORTING/REFERENCE/GIAB/ANALYSIS_READY/CHR20/NA12878.giab.INDEL.chr20.non_valid.reheaded.vcf.gz --vt indels --chros chr20 -with-singularity /nfs/production/reseq-info/work/ernesto/isgr/VARIANT_CALLING/VARCALL_ALLGENOME_13022017/FILTERING/05_2017/LC_DIR/BCFTOOLS/DEVEL/ALL_SAMPLES/DATA/variant_filtering.simg"
   ]
  },
  {
   "cell_type": "markdown",
   "metadata": {},
   "source": [
    "**QC:**"
   ]
  },
  {
   "cell_type": "markdown",
   "metadata": {},
   "source": [
    "| Dataset       | shared (TP)  | giab_only (FN)| Igsr_only (FP) | total in giab | total in igsr|\n",
    "| ------------- | ------------ | ------------- | -------------- | ------------- | -------------|\n",
    "| *Prefilter*   |7,425 (67.9%)|3,510 (32.1%)  | 2,884 (28.0%)  | 10,935 (100%) | 10,309 (100%) |\n",
    "| *Postfilter (c:0.1)* |7,298 (66.7%) |3,637 (33.3%)  |2,506 (25.6%)  |10,935  (100%) | 9,804 (100%) |\n",
    "| *Postfilter (c:0.2)* |7,132 (65.2%) |3,803 (34.8%) |1,924 (21.2%) |10,935 (100%) | 9,056 (100%) |\n",
    "| *Postfilter (c:0.3)* |6,930 (63.4%)|4,005 (36.6%) |1,523 (18.0%) |10,935 (100%) | 8,453 (100%) |\n",
    "| *Postfilter (c:0.4)* |6,605 (60.4%) |4,330 (39.6%) |1,157 (14.9%)|10,935 (100%) | 7,762 (100%) |\n",
    "| *Postfilter (c:0.5)* |6,166 (56.4%) |4,769 (43.6%) |840 (12.0%)|10,935 (100%) | 7,006 (100%) |\n",
    "| *Postfilter (c:0.6)* |5,570 (50.9%) |5,365 (49.1%) |541 (8.8%)|10,935 (100%) | 6,111(100%) |\n",
    "| *Postfilter (c:0.7)* |4,697 (42.9%) |6,238 (57.1%) |270 (5.4%)|10,935 (100%) |4,967 (100%) |\n",
    "| *Postfilter (c:0.8)* |3,425 (31.3%) |7,510 (68.7%) |80 (2.3%)|10,935 (100%) |3,505 (100%) |\n",
    "| *Postfilter (c:0.9)* |1,176 (10.7%) |9,759 (89.2%) |16 (1.3%)|10,935 (100%) |1,192 (100%) |\n",
    "| *Postfilter (c:1.0)* | 0 (0%)|10,935 (100%) |0 (0%)|10,935 (100%) | 0 (100%)|\n",
    "| *Notebook filter* | 4,960 (45.4%)| 5,975 (54.6%) |318 (6%) | 10,935 (100%) | 5,278 (100%) |"
   ]
  },
  {
   "cell_type": "markdown",
   "metadata": {},
   "source": [
    "**FILTERED with Notebook FILTER**  \n",
    "This section is on GIAB NA12878 benchmarking vs chr20 INDELs BCFTools VCF filtered using the Notebook filter:"
   ]
  },
  {
   "cell_type": "raw",
   "metadata": {},
   "source": [
    "work dir:\n",
    "/nfs/production/reseq-info/work/ernesto/isgr/VARIANT_CALLING/VARCALL_ALLGENOME_13022017/FILTERING/03_2019/BCFTOOLS/APPLY/INDELS/chr20_notebook_filter"
   ]
  },
  {
   "cell_type": "markdown",
   "metadata": {},
   "source": [
    "First, let's get the variants for chr20:"
   ]
  },
  {
   "cell_type": "code",
   "execution_count": null,
   "metadata": {},
   "outputs": [],
   "source": [
    "bcftools view -G -v indels -s NA12878 -r chr20 /nfs/production/reseq-info/work/ernesto/isgr/VARIANT_CALLING/VARCALL_ALLGENOME_13022017/FILTERING/05_2017/LC_DIR/BCFTOOLS/WHOLE_GENOME/final_dir/lc_bams.bcftools.20170703.filt.vcf.gz -o lc_bams.bcftools.20170703.chr20.indels.filt.NA12878.sites.vcf.gz -Oz"
   ]
  }
 ],
 "metadata": {
  "kernelspec": {
   "display_name": "Python 3",
   "language": "python",
   "name": "python3"
  },
  "language_info": {
   "codemirror_mode": {
    "name": "ipython",
    "version": 3
   },
   "file_extension": ".py",
   "mimetype": "text/x-python",
   "name": "python",
   "nbconvert_exporter": "python",
   "pygments_lexer": "ipython3",
   "version": "3.5.3"
  },
  "toc": {
   "nav_menu": {},
   "number_sections": true,
   "sideBar": true,
   "skip_h1_title": false,
   "title_cell": "Table of Contents",
   "title_sidebar": "Contents",
   "toc_cell": false,
   "toc_position": {},
   "toc_section_display": true,
   "toc_window_display": false
  }
 },
 "nbformat": 4,
 "nbformat_minor": 2
}
