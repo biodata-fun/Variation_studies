{
 "cells": [
  {
   "cell_type": "markdown",
   "metadata": {},
   "source": [
    "# Freebayes\n",
    "Firstly, let's prepare the VCF that we want to filter. For this we need to do a series of things for the training of the ML model and for applying the model"
   ]
  },
  {
   "cell_type": "markdown",
   "metadata": {},
   "source": [
    "## Training the model\n",
    "For this, we use NA28178 from GIAB (https://jimb.stanford.edu/giab) as the truth set and we will examine the sites in our call set across all the chromosomes overlapping with the GIAB sites and consider them as true positives."
   ]
  },
  {
   "cell_type": "markdown",
   "metadata": {},
   "source": [
    "Firstly, we need to get the variant sites for NA12878 from our call set:"
   ]
  },
  {
   "cell_type": "raw",
   "metadata": {},
   "source": [
    "working_dir:\n",
    "/nfs/production/reseq-info/work/ernesto/isgr/VARIANT_CALLING/VARCALL_ALLGENOME_13022017/FILTERING/03_2019/FREEBAYES/TRAIN/DATA"
   ]
  },
  {
   "cell_type": "code",
   "execution_count": null,
   "metadata": {},
   "outputs": [],
   "source": [
    "cmd:\n",
    "bcftools view -c1 -G -s NA12878 /nfs/production/reseq-info/work/IGSR_variants/vc_1000g_13022017/LC_EX_DIR2405/lc_ex_bam.freebayes.20170911.vcf.gz -o lc_ex_bam.freebayes.20170911.onlyvariants.onlysites.NA12878.vcf.gz -Oz"
   ]
  },
  {
   "cell_type": "markdown",
   "metadata": {},
   "source": [
    "From here downwards, the process will be different in SNVs and INDELs"
   ]
  },
  {
   "cell_type": "markdown",
   "metadata": {},
   "source": [
    "### SNVs"
   ]
  },
  {
   "cell_type": "markdown",
   "metadata": {},
   "source": [
    "* Normalization of SNVs\n",
    "This is necessary in order to make a proper comparison with GIAB"
   ]
  },
  {
   "cell_type": "code",
   "execution_count": null,
   "metadata": {},
   "outputs": [],
   "source": [
    "working_dir:\n",
    "/nfs/production/reseq-info/work/ernesto/isgr/VARIANT_CALLING/VARCALL_ALLGENOME_13022017/FILTERING/03_2019/FREEBAYES/TRAIN/SNVs/NORMALIZATION"
   ]
  },
  {
   "cell_type": "markdown",
   "metadata": {},
   "source": [
    "For normalizaton I will use my Nextflow pipeline executed with the following command"
   ]
  },
  {
   "cell_type": "raw",
   "metadata": {},
   "source": [
    "/nfs/production/reseq-info/work/ernesto/bin/nextflow run /homes/ernesto/lib/igsr_analysis_master/igsr_analysis/scripts/VCF/NORMALIZATION/normalize_vcf.nf --vcf /nfs/production/reseq-info/work/ernesto/isgr/VARIANT_CALLING/VARCALL_ALLGENOME_13022017/FILTERING/03_2019/FREEBAYES/TRAIN/DATA/lc_ex_bam.freebayes.20170911.onlyvariants.onlysites.NA12878.vcf.gz -with-singularity /nfs/production/reseq-info/work/ernesto/isgr/VARIANT_CALLING/VARCALL_ALLGENOME_13022017/FILTERING/05_2017/LC_DIR/BCFTOOLS/DEVEL/ALL_SAMPLES/DATA/variant_filtering.simg --ref /nfs/production/reseq-info/work/reference/GRCh38/GRCh38_full_analysis_set_plus_decoy_hla.fa --vt snps --outprefix lc_ex_bam.freebayes.20170911.onlyvariants.onlysites.NA12878 --threads 5"
   ]
  },
  {
   "cell_type": "markdown",
   "metadata": {},
   "source": [
    "* Now we train the model using only variants in chr20 that are in high-conf regions from GIAB"
   ]
  },
  {
   "cell_type": "raw",
   "metadata": {},
   "source": [
    "working dir:\n",
    "/nfs/production/reseq-info/work/ernesto/isgr/VARIANT_CALLING/VARCALL_ALLGENOME_13022017/FILTERING/03_2019/FREEBAYES/TRAIN/SNVs/TRAIN_CHR20"
   ]
  },
  {
   "cell_type": "markdown",
   "metadata": {},
   "source": [
    "Let's select the variants in chr20:"
   ]
  },
  {
   "cell_type": "raw",
   "metadata": {},
   "source": [
    "bcftools view -r chr20 ../NORMALIZATION/norm_file/lc_ex_bam.freebayes.20170911.snvs.onlyvariants.onlysites.NA12878.normalized.vcf.gz -o lc_ex_bam.freebayes.20170911.snvs.onlyvariants.onlysites.NA12878.normalized.chr20.vcf.gz -Oz"
   ]
  },
  {
   "cell_type": "markdown",
   "metadata": {},
   "source": [
    "And now, let's use for training the variants in the GIAB high-conf regions:"
   ]
  },
  {
   "cell_type": "code",
   "execution_count": null,
   "metadata": {},
   "outputs": [],
   "source": [
    "/nfs/production/reseq-info/work/bin/bcftools-1.9/bcftools view -R /nfs/production/reseq-info/work/ernesto/isgr/SUPPORTING/REFERENCE/GIAB/chr20DIR/HIGH_CONF_REGIONS/HG001_GRCh38_GIAB_highconf_CG-IllFB-IllGATKHC-Ion-10X-SOLID_CHROM1-X_v.3.3.2_highconf_nosomaticdel_noCENorHET7.chr20.bed lc_ex_bam.freebayes.20170911.snvs.onlyvariants.onlysites.NA12878.normalized.ch\\\n",
    "r20.vcf.gz -o lc_ex_bam.freebayes.20170911.snvs.onlyvariants.onlysites.NA12878.normalized.chr20.inhighconf.vcf.gz -Oz"
   ]
  },
  {
   "cell_type": "markdown",
   "metadata": {},
   "source": [
    "And now we can run the Nextflow pipeline for training the model using GIAB NA12878:"
   ]
  },
  {
   "cell_type": "raw",
   "metadata": {},
   "source": [
    "/nfs/production/reseq-info/work/ernesto/bin/nextflow -C /homes/ernesto/lib/igsr_analysis_master/igsr_analysis/scripts/VCF/FILTER/MLfilter_trainmodel.config run /homes/ernesto/lib/igsr_analysis_master/igsr_analysis/scripts/VCF/FILTER/MLfilter_trainmodel.nf --vcf /nfs/production/reseq-info/work/ernesto/isgr/VARIANT_CALLING/VARCALL_ALLGENOME_13022017/FILTERING/03_2019/FREEBAYES/TRAIN/SNVs/TRAIN_CHR20/lc_ex_bam.freebayes.20170911.snvs.onlyvariants.onlysites.NA12878.normalized.chr20.inhighconf.vcf.gz --true /nfs/production/reseq-info/work/ernesto/isgr/SUPPORTING/REFERENCE/GIAB/ANALYSIS_READY/ALL_CHROS/SNPS/final_dir/NA12878.giab.SNP.non_valid.chr20.biallelic.vcf.gz --annotations '%CHROM\\t%POS\\t%INFO/AB\\t%INFO/ABP\\t%INFO/AO\\t%INFO/DP\\t%INFO/DPB\\t%INFO/DPRA\\t%INFO/MEANALT\\t%INFO/MQM\\t%INFO/NUMALT\\t%INFO/PAIRED\\t%INFO/PAIREDR\\t%INFO/PAO\\t%INFO/PQA\\t%INFO/PQR\\t%INFO/PRO\\t%INFO/QA\\t%INFO/RO\\t%INFO/RPL\\t%INFO/RPP\\t%INFO/RPR\\t%INFO/SAF\\t%INFO/SAR\\t%INFO/SRF\\t%INFO/SRR\\n' -with-singularity /nfs/production/reseq-info/work/ernesto/isgr/VARIANT_CALLING/VARCALL_ALLGENOME_13022017/FILTERING/05_2017/LC_DIR/BCFTOOLS/DEVEL/ALL_SAMPLES/DATA/variant_filtering.simg --vt snps"
   ]
  },
  {
   "cell_type": "markdown",
   "metadata": {},
   "source": [
    "### INDELs"
   ]
  },
  {
   "cell_type": "markdown",
   "metadata": {},
   "source": [
    "* Normalization of INDELs\n",
    "This is necessary in order to make a proper comparison with GIAB"
   ]
  },
  {
   "cell_type": "code",
   "execution_count": null,
   "metadata": {},
   "outputs": [],
   "source": [
    "working_dir:\n",
    "/nfs/production/reseq-info/work/ernesto/isgr/VARIANT_CALLING/VARCALL_ALLGENOME_13022017/FILTERING/03_2019/FREEBAYES/TRAIN/INDELS"
   ]
  },
  {
   "cell_type": "markdown",
   "metadata": {},
   "source": [
    "For normalizaton I will use my Nextflow pipeline executed with the following command"
   ]
  },
  {
   "cell_type": "raw",
   "metadata": {},
   "source": [
    "/nfs/production/reseq-info/work/ernesto/bin/nextflow run /homes/ernesto/lib/igsr_analysis_master/igsr_analysis/scripts/VCF/NORMALIZATION/normalize_vcf.nf --vcf /nfs/production/reseq-info/work/ernesto/isgr/VARIANT_CALLING/VARCALL_ALLGENOME_13022017/FILTERING/03_2019/FREEBAYES/TRAIN/DATA/lc_ex_bam.freebayes.20170911.onlyvariants.onlysites.NA12878.vcf.gz -with-singularity /nfs/production/reseq-info/work/ernesto/isgr/VARIANT_CALLING/VARCALL_ALLGENOME_13022017/FILTERING/05_2017/LC_DIR/BCFTOOLS/DEVEL/ALL_SAMPLES/DATA/variant_filtering.simg --ref /nfs/production/reseq-info/work/reference/GRCh38/GRCh38_full_analysis_set_plus_decoy_hla.fa --vt indels --outprefix lc_ex_bam.freebayes.20170911.indels.onlyvariants.onlysites.NA12878 --threads 5"
   ]
  },
  {
   "cell_type": "markdown",
   "metadata": {},
   "source": [
    "## Applying the model\n",
    "This section relates how to apply the fitted logistic regression model that has been generated in the `Training the model` section"
   ]
  },
  {
   "cell_type": "markdown",
   "metadata": {},
   "source": [
    "### SNVs\n",
    "We need to normalize the VCF that will be filtered.\n",
    "In order to check that the process is working I will use only the chr20"
   ]
  },
  {
   "cell_type": "markdown",
   "metadata": {},
   "source": [
    "#### chr20"
   ]
  },
  {
   "cell_type": "raw",
   "metadata": {},
   "source": [
    "working_dir:\n",
    "/nfs/production/reseq-info/work/ernesto/isgr/VARIANT_CALLING/VARCALL_ALLGENOME_13022017/FILTERING/03_2019/FREEBAYES/APPLY/SNVS/CHR20"
   ]
  },
  {
   "cell_type": "markdown",
   "metadata": {},
   "source": [
    "First thing is to select the chr20 from the unfiltered call set:"
   ]
  },
  {
   "cell_type": "code",
   "execution_count": null,
   "metadata": {},
   "outputs": [],
   "source": [
    "bcftools view -r chr20 /nfs/production/reseq-info/work/IGSR_variants/vc_1000g_13022017/LC_EX_DIR2405/lc_ex_bam.freebayes.20170911.vcf.gz -o lc_ex_bam.freebayes.20170911.chr20.vcf.gz -Oz --threads 5"
   ]
  },
  {
   "cell_type": "markdown",
   "metadata": {},
   "source": [
    "In order to fix a problem with the VCF header causing bcftools to crash with error:"
   ]
  },
  {
   "cell_type": "raw",
   "metadata": {},
   "source": [
    "Command error:\n",
    "  Error: wrong number of fields in FMT/DPR at chr20:60251, expected 5396, found 8094"
   ]
  },
  {
   "cell_type": "markdown",
   "metadata": {},
   "source": [
    "We need to rehead the VCF:"
   ]
  },
  {
   "cell_type": "raw",
   "metadata": {},
   "source": [
    "bcftools reheader -h header.txt -o lc_ex_bam.freebayes.20170911.chr20.reheader.vcf.gz lc_ex_bam.freebayes.20170911.chr20.vcf.gz --threads 5"
   ]
  },
  {
   "cell_type": "markdown",
   "metadata": {},
   "source": [
    "And then we can use the normalization pipeline:"
   ]
  },
  {
   "cell_type": "raw",
   "metadata": {},
   "source": [
    "/nfs/production/reseq-info/work/ernesto/bin/nextflow run /homes/ernesto/lib/igsr_analysis_master/igsr_analysis/scripts/VCF/NORMALIZATION/normalize_vcf.nf --vcf /nfs/production/reseq-info/work/ernesto/isgr/VARIANT_CALLING/VARCALL_ALLGENOME_13022017/FILTERING/03_2019/FREEBAYES/APPLY/NORMALIZATION/CHR20/lc_ex_bam.freebayes.20170911.chr20.reheader.vcf.gz -with-singularity /nfs/production/reseq-info/work/ernesto/isgr/VARIANT_CALLING/VARCALL_ALLGENOME_13022017/FILTERING/05_2017/LC_DIR/BCFTOOLS/DEVEL/ALL_SAMPLES/DATA/variant_filtering.simg --ref /nfs/production/reseq-info/work/reference/GRCh38/GRCh38_full_analysis_set_plus_decoy_hla.fa --vt snps --outprefix lc_ex_bam.freebayes.20170911.chr20.snvs.norm --threads 5"
   ]
  }
 ],
 "metadata": {
  "kernelspec": {
   "display_name": "Python 3",
   "language": "python",
   "name": "python3"
  },
  "language_info": {
   "codemirror_mode": {
    "name": "ipython",
    "version": 3
   },
   "file_extension": ".py",
   "mimetype": "text/x-python",
   "name": "python",
   "nbconvert_exporter": "python",
   "pygments_lexer": "ipython3",
   "version": "3.5.3"
  },
  "toc": {
   "nav_menu": {},
   "number_sections": true,
   "sideBar": true,
   "skip_h1_title": false,
   "title_cell": "Table of Contents",
   "title_sidebar": "Contents",
   "toc_cell": false,
   "toc_position": {},
   "toc_section_display": true,
   "toc_window_display": false
  }
 },
 "nbformat": 4,
 "nbformat_minor": 2
}
