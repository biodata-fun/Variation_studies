{
 "cells": [
  {
   "cell_type": "markdown",
   "metadata": {},
   "source": [
    "# Freebayes\n",
    "Firstly, let's prepare the VCF that we want to filter. For this we need to do a series of things for the training of the ML model and for applying the model"
   ]
  },
  {
   "cell_type": "markdown",
   "metadata": {},
   "source": [
    "## Training the model\n",
    "For this, we use NA28178 from GIAB (https://jimb.stanford.edu/giab) as the truth set and we will examine the sites in our call set across all the chromosomes overlapping with the GIAB sites and consider them as true positives."
   ]
  },
  {
   "cell_type": "markdown",
   "metadata": {},
   "source": [
    "Firstly, we need to get the variant sites for NA12878 from our call set:"
   ]
  },
  {
   "cell_type": "raw",
   "metadata": {},
   "source": [
    "working_dir:\n",
    "/nfs/production/reseq-info/work/ernesto/isgr/VARIANT_CALLING/VARCALL_ALLGENOME_13022017/FILTERING/03_2019/FREEBAYES/TRAIN/DATA"
   ]
  },
  {
   "cell_type": "raw",
   "metadata": {},
   "source": [
    "cmd:\n",
    "bcftools view -c1 -G -s NA12878 /nfs/production/reseq-info/work/IGSR_variants/vc_1000g_13022017/LC_EX_DIR2405/lc_ex_bam.freebayes.20170911.vcf.gz -o lc_ex_bam.freebayes.20170911.onlyvariants.onlysites.NA12878.vcf.gz -Oz"
   ]
  },
  {
   "cell_type": "markdown",
   "metadata": {},
   "source": [
    "From here downwards, the process will be different in SNVs and INDELs"
   ]
  },
  {
   "cell_type": "markdown",
   "metadata": {},
   "source": [
    "### SNVs"
   ]
  },
  {
   "cell_type": "markdown",
   "metadata": {},
   "source": [
    "* Normalization of SNVs  \n",
    "This is necessary in order to make a proper comparison with GIAB"
   ]
  },
  {
   "cell_type": "raw",
   "metadata": {},
   "source": [
    "working_dir:\n",
    "/nfs/production/reseq-info/work/ernesto/isgr/VARIANT_CALLING/VARCALL_ALLGENOME_13022017/FILTERING/03_2019/FREEBAYES/TRAIN/SNVs/NORMALIZATION"
   ]
  },
  {
   "cell_type": "markdown",
   "metadata": {},
   "source": [
    "For normalizaton I will use my Nextflow pipeline executed with the following command"
   ]
  },
  {
   "cell_type": "raw",
   "metadata": {},
   "source": [
    "/nfs/production/reseq-info/work/ernesto/bin/nextflow run /homes/ernesto/lib/igsr_analysis_master/igsr_analysis/scripts/VCF/NORMALIZATION/normalize_vcf.nf --vcf /nfs/production/reseq-info/work/ernesto/isgr/VARIANT_CALLING/VARCALL_ALLGENOME_13022017/FILTERING/03_2019/FREEBAYES/TRAIN/DATA/lc_ex_bam.freebayes.20170911.onlyvariants.onlysites.NA12878.vcf.gz -with-singularity /nfs/production/reseq-info/work/ernesto/isgr/VARIANT_CALLING/VARCALL_ALLGENOME_13022017/FILTERING/05_2017/LC_DIR/BCFTOOLS/DEVEL/ALL_SAMPLES/DATA/variant_filtering.simg --ref /nfs/production/reseq-info/work/reference/GRCh38/GRCh38_full_analysis_set_plus_decoy_hla.fa --vt snps --outprefix lc_ex_bam.freebayes.20170911.onlyvariants.onlysites.NA12878 --threads 5"
   ]
  },
  {
   "cell_type": "markdown",
   "metadata": {},
   "source": [
    "* Now we train the model using only variants in chr20 that are in high-conf regions from GIAB"
   ]
  },
  {
   "cell_type": "raw",
   "metadata": {},
   "source": [
    "working dir:\n",
    "/nfs/production/reseq-info/work/ernesto/isgr/VARIANT_CALLING/VARCALL_ALLGENOME_13022017/FILTERING/03_2019/FREEBAYES/TRAIN/SNVs/TRAIN_CHR20"
   ]
  },
  {
   "cell_type": "markdown",
   "metadata": {},
   "source": [
    "Let's select the variants in chr20:"
   ]
  },
  {
   "cell_type": "raw",
   "metadata": {},
   "source": [
    "bcftools view -r chr20 ../NORMALIZATION/norm_file/lc_ex_bam.freebayes.20170911.snvs.onlyvariants.onlysites.NA12878.normalized.vcf.gz -o lc_ex_bam.freebayes.20170911.snvs.onlyvariants.onlysites.NA12878.normalized.chr20.vcf.gz -Oz"
   ]
  },
  {
   "cell_type": "markdown",
   "metadata": {},
   "source": [
    "And now, let's use for training the variants in the GIAB high-conf regions:"
   ]
  },
  {
   "cell_type": "raw",
   "metadata": {},
   "source": [
    "/nfs/production/reseq-info/work/bin/bcftools-1.9/bcftools view -R /nfs/production/reseq-info/work/ernesto/isgr/SUPPORTING/REFERENCE/GIAB/chr20DIR/HIGH_CONF_REGIONS/HG001_GRCh38_GIAB_highconf_CG-IllFB-IllGATKHC-Ion-10X-SOLID_CHROM1-X_v.3.3.2_highconf_nosomaticdel_noCENorHET7.chr20.bed lc_ex_bam.freebayes.20170911.snvs.onlyvariants.onlysites.NA12878.normalized.ch\\\n",
    "r20.vcf.gz -o lc_ex_bam.freebayes.20170911.snvs.onlyvariants.onlysites.NA12878.normalized.chr20.inhighconf.vcf.gz -Oz"
   ]
  },
  {
   "cell_type": "markdown",
   "metadata": {},
   "source": [
    "#### RFE\n",
    "The Recursive Feature Elimination will help to select the variant annotations that are more useful in order the select the real SNVs:"
   ]
  },
  {
   "cell_type": "raw",
   "metadata": {},
   "source": [
    "work dir:\n",
    "/nfs/production/reseq-info/work/ernesto/isgr/VARIANT_CALLING/VARCALL_ALLGENOME_13022017/FILTERING/03_2019/FREEBAYES/TRAIN/SNVs/TRAIN_CHR20/RFE"
   ]
  },
  {
   "cell_type": "markdown",
   "metadata": {},
   "source": [
    "We will select 25 features out of the X annotations that Freebayes generates:"
   ]
  },
  {
   "cell_type": "raw",
   "metadata": {},
   "source": [
    "/nfs/production/reseq-info/work/ernesto/bin/nextflow -C /homes/ernesto/lib/igsr_analysis_master/igsr_analysis/scripts/VCF/FILTER/MLfilter_trainmodel.config run /homes/ernesto/lib/igsr_analysis_master/igsr_analysis/scripts/VCF/FILTER/MLfilter_trainmodel.nf --vcf /nfs/production/reseq-info/work/ernesto/isgr/VARIANT_CALLING/VARCALL_ALLGENOME_13022017/FILTERING/03_2019/FREEBAYES/TRAIN/SNVs/TRAIN_CHR20/lc_ex_bam.freebayes.20170911.snvs.onlyvariants.onlysites.NA12878.normalized.chr20.inhighconf.vcf.gz --true /nfs/production/reseq-info/work/ernesto/isgr/SUPPORTING/REFERENCE/GIAB/ANALYSIS_READY/ALL_CHROS/SNPS/final_dir/NA12878.giab.SNP.non_valid.chr20.biallelic.vcf.gz --annotations '%CHROM\\t%POS\\t%QUAL\\t%INFO/DP\\t%INFO/DPB\\t%INFO/RO\\t%INFO/AO\\t%INFO/PRO\\t%INFO/PAO\\t%INFO/QR\\t%INFO/QA\\t%INFO/PQR\\t%INFO/PQA\\t%INFO/SRF\\t%INFO/SRR\\t%INFO/SAF\\t%INFO/SAR\\t%INFO/SRP\\t%INFO/SAP\\t%INFO/AB\\t%INFO/ABP\\t%INFO/RUN\\t%INFO/RPP\\t%INFO/RPPR\\t%INFO/RPL\\t%INFO/RPR\\t%INFO/EPP\\t%INFO/EPPR\\t%INFO/DPRA\\t%INFO/ODDS\\t%INFO/GTI\\t%INFO/NUMALT\\t%INFO/MEANALT\\t%INFO/MQM\\t%INFO/MQMR\\t%INFO/PAIRED\\t%INFO/PAIREDR\\n' --vt snps --rfe true --no_features 25"
   ]
  },
  {
   "cell_type": "markdown",
   "metadata": {},
   "source": [
    "And the selected features are:"
   ]
  },
  {
   "cell_type": "raw",
   "metadata": {},
   "source": [
    "'[3]QUAL', '[4]DP', '[5]DPB', '[6]RO', '[7]AO', '[8]PRO', '[9]PAO',\n",
    "'[10]QR', '[11]QA', '[12]PQR', '[13]PQA', '[14]SRF', '[15]SRR',\n",
    "'[17]SAR', '[18]SRP', '[19]SAP', '[20]AB', '[21]ABP', '[23]RPP',\n",
    "'[25]RPL', '[26]RPR', '[29]DPRA', '[33]MEANALT', '[34]MQM', '[35]MQMR'],"
   ]
  },
  {
   "cell_type": "markdown",
   "metadata": {},
   "source": [
    "And now we can run the Nextflow pipeline for training the model using GIAB NA12878:"
   ]
  },
  {
   "cell_type": "raw",
   "metadata": {},
   "source": [
    "/nfs/production/reseq-info/work/ernesto/bin/nextflow -C /homes/ernesto/lib/igsr_analysis_master/igsr_analysis/scripts/VCF/FILTER/MLfilter_trainmodel.config run /homes/ernesto/lib/igsr_analysis_master/igsr_analysis/scripts/VCF/FILTER/MLfilter_trainmodel.nf --vcf /nfs/production/reseq-info/work/ernesto/isgr/VARIANT_CALLING/VARCALL_ALLGENOME_13022017/FILTERING/03_2019/FREEBAYES/TRAIN/SNVs/TRAIN_CHR20/lc_ex_bam.freebayes.20170911.snvs.onlyvariants.onlysites.NA12878.normalized.chr20.inhighconf.vcf.gz --true /nfs/production/reseq-info/work/ernesto/isgr/SUPPORTING/REFERENCE/GIAB/ANALYSIS_READY/ALL_CHROS/SNPS/final_dir/NA12878.giab.SNP.non_valid.chr20.biallelic.vcf.gz --annotations '%CHROM\\t%POS\\t%QUAL\\t%INFO/DP\\t%INFO/DPB\\t%INFO/RO\\t%INFO/AO\\t%INFO/PRO\\t%INFO/PAO\\t%INFO/QR\\t%INFO/QA\\t%INFO/PQR\\t%INFO/PQA\\t%INFO/SRF\\t%INFO/SRR\\t%INFO/SAR\\t%INFO/SRP\\t%INFO/SAP\\t%INFO/AB\\t%INFO/ABP\\t%INFO/RPP\\t%INFO/RPL\\t%INFO/RPR\\t%INFO/DPRA\\t%INFO/MEANALT\\t%INFO/MQM\\t%INFO/MQMR\\n' --vt snps"
   ]
  },
  {
   "cell_type": "markdown",
   "metadata": {},
   "source": [
    "The score of the model is: [LibLinear]Score for the logistic regression fitted model is: 0.9838855694369002"
   ]
  },
  {
   "cell_type": "markdown",
   "metadata": {},
   "source": [
    "### INDELs"
   ]
  },
  {
   "cell_type": "markdown",
   "metadata": {},
   "source": [
    "* Normalization of INDELs  \n",
    "This is necessary in order to make a proper comparison with GIAB"
   ]
  },
  {
   "cell_type": "raw",
   "metadata": {},
   "source": [
    "working_dir:\n",
    "/nfs/production/reseq-info/work/ernesto/isgr/VARIANT_CALLING/VARCALL_ALLGENOME_13022017/FILTERING/03_2019/FREEBAYES/TRAIN/INDELS"
   ]
  },
  {
   "cell_type": "markdown",
   "metadata": {},
   "source": [
    "For normalizaton I will use my Nextflow pipeline executed with the following command"
   ]
  },
  {
   "cell_type": "raw",
   "metadata": {},
   "source": [
    "/nfs/production/reseq-info/work/ernesto/bin/nextflow run /homes/ernesto/lib/igsr_analysis_master/igsr_analysis/scripts/VCF/NORMALIZATION/normalize_vcf.nf --vcf /nfs/production/reseq-info/work/ernesto/isgr/VARIANT_CALLING/VARCALL_ALLGENOME_13022017/FILTERING/03_2019/FREEBAYES/TRAIN/DATA/lc_ex_bam.freebayes.20170911.onlyvariants.onlysites.NA12878.vcf.gz -with-singularity /nfs/production/reseq-info/work/ernesto/isgr/VARIANT_CALLING/VARCALL_ALLGENOME_13022017/FILTERING/05_2017/LC_DIR/BCFTOOLS/DEVEL/ALL_SAMPLES/DATA/variant_filtering.simg --ref /nfs/production/reseq-info/work/reference/GRCh38/GRCh38_full_analysis_set_plus_decoy_hla.fa --vt indels --outprefix lc_ex_bam.freebayes.20170911.indels.onlyvariants.onlysites.NA12878 --threads 5"
   ]
  },
  {
   "cell_type": "markdown",
   "metadata": {},
   "source": [
    "#### RFE\n",
    "The Recursive Feature Elimination will help to select the variant annotations that are more useful in order the select the real INDELs: In this case we use the INDELs from all the chros, as chr20 does not have enough INDELs"
   ]
  },
  {
   "cell_type": "raw",
   "metadata": {},
   "source": [
    "work dir:\n",
    "/nfs/production/reseq-info/work/ernesto/isgr/VARIANT_CALLING/VARCALL_ALLGENOME_13022017/FILTERING/03_2019/FREEBAYES/TRAIN/INDELS/TRAIN/RFE"
   ]
  },
  {
   "cell_type": "markdown",
   "metadata": {},
   "source": [
    "We will select 25 features out of the X annotations that Freebayes generates:"
   ]
  },
  {
   "cell_type": "raw",
   "metadata": {},
   "source": [
    "/nfs/production/reseq-info/work/ernesto/bin/nextflow -C /homes/ernesto/lib/igsr_analysis_master/igsr_analysis/scripts/VCF/FILTER/MLfilter_trainmodel.config run /homes/ernesto/lib/igsr_analysis_master/igsr_analysis/scripts/VCF/FILTER/MLfilter_trainmodel.nf --vcf /nfs/production/reseq-info/work/ernesto/isgr/VARIANT_CALLING/VARCALL_ALLGENOME_13022017/FILTERING/03_2019/FREEBAYES/TRAIN/INDELS/work/ba/007415e500aff45be9710402be50cb/lc_ex_bam.freebayes.20170911.indels.onlyvariants.onlysites.NA12878.normalized.vcf.gz --true /nfs/production/reseq-info/work/ernesto/isgr/SUPPORTING/REFERENCE/GIAB/ANALYSIS_READY/NA12878.giab.INDEL.inghighconf.non_valid.vcf.gz --annotations '%CHROM\\t%POS\\t%QUAL\\t%INFO/DP\\t%INFO/DPB\\t%INFO/RO\\t%INFO/AO\\t%INFO/PRO\\t%INFO/PAO\\t%INFO/QR\\t%INFO/QA\\t%INFO/PQR\\t%INFO/PQA\\t%INFO/SRF\\t%INFO/SRR\\t%INFO/SAF\\t%INFO/SAR\\t%INFO/SRP\\t%INFO/SAP\\t%INFO/AB\\t%INFO/ABP\\t%INFO/RUN\\t%INFO/RPP\\t%INFO/RPPR\\t%INFO/RPL\\t%INFO/RPR\\t%INFO/EPP\\t%INFO/EPPR\\t%INFO/DPRA\\t%INFO/ODDS\\t%INFO/GTI\\t%INFO/NUMALT\\t%INFO/MEANALT\\t%INFO/MQM\\t%INFO/MQMR\\t%INFO/PAIRED\\t%INFO/PAIREDR\\n' --vt indels --rfe true --no_features 25"
   ]
  },
  {
   "cell_type": "markdown",
   "metadata": {},
   "source": [
    "And the selected features are:"
   ]
  },
  {
   "cell_type": "raw",
   "metadata": {},
   "source": [
    "The selected features are:Index(['[3]QUAL', '[4]DP', '[6]RO', '[7]AO', '[8]PRO', '[9]PAO', '[10]QR',\n",
    "       '[11]QA', '[12]PQR', '[13]PQA', '[14]SRF', '[15]SRR', '[17]SAR',\n",
    "       '[20]AB', '[21]ABP', '[23]RPP', '[24]RPPR', '[26]RPR', '[27]EPP',\n",
    "       '[29]DPRA', '[30]ODDS', '[33]MEANALT', '[34]MQM', '[35]MQMR',\n",
    "       '[36]PAIRED'],\n",
    "      dtype='object')"
   ]
  },
  {
   "cell_type": "markdown",
   "metadata": {},
   "source": [
    "And now we can run the Nextflow pipeline for training the model using GIAB NA12878:"
   ]
  },
  {
   "cell_type": "raw",
   "metadata": {},
   "source": [
    " /nfs/production/reseq-info/work/ernesto/bin/nextflow -C /homes/ernesto/lib/igsr_analysis_master/igsr_analysis/scripts/VCF/FILTER/MLfilter_trainmodel.config run /homes/ernesto/lib/igsr_analysis_master/igsr_analysis/scripts/VCF/FILTER/MLfilter_trainmodel.nf --vcf /nfs/production/reseq-info/work/ernesto/isgr/VARIANT_CALLING/VARCALL_ALLGENOME_13022017/FILTERING/03_2019/FREEBAYES/TRAIN/INDELS/work/ba/007415e500aff45be9710402be50cb/lc_ex_bam.freebayes.20170911.indels.onlyvariants.onlysites.NA12878.normalized.vcf.gz --true /nfs/production/reseq-info/work/ernesto/isgr/SUPPORTING/REFERENCE/GIAB/ANALYSIS_READY/NA12878.giab.INDEL.inghighconf.non_valid.vcf.gz --annotations '%CHROM\\t%POS\\t%QUAL\\t%INFO/DP\\t%INFO/RO\\t%INFO/AO\\t%INFO/PRO\\t%INFO/PAO\\t%INFO/QR\\t%INFO/QA\\t%INFO/PQR\\t%INFO/PQA\\t%INFO/SRF\\t%INFO/SRR\\t%INFO/SAR\\t%INFO/AB\\t%INFO/ABP\\t%INFO/RPP\\t%INFO/RPPR\\t%INFO/RPR\\t%INFO/EPP\\t%INFO/DPRA\\t%INFO/ODDS\\t%INFO/MEANALT\\t%INFO/MQM\\t%INFO/MQMR\\t%INFO/PAIRED\\n' --vt indels"
   ]
  },
  {
   "cell_type": "markdown",
   "metadata": {},
   "source": [
    "[LibLinear]Score for the logistic regression fitted model is: 0.7593647714874531"
   ]
  },
  {
   "cell_type": "markdown",
   "metadata": {},
   "source": [
    "## Applying the model\n",
    "This section relates how to apply the fitted logistic regression model that has been generated in the `Training the model` section"
   ]
  },
  {
   "cell_type": "markdown",
   "metadata": {},
   "source": [
    "### chr20"
   ]
  },
  {
   "cell_type": "raw",
   "metadata": {},
   "source": [
    "working_dir:\n",
    "/nfs/production/reseq-info/work/ernesto/isgr/VARIANT_CALLING/VARCALL_ALLGENOME_13022017/FILTERING/03_2019/FREEBAYES/APPLY/NORMALIZATION/CHR20"
   ]
  },
  {
   "cell_type": "markdown",
   "metadata": {},
   "source": [
    "First thing is to select the chr20 from the unfiltered call set:"
   ]
  },
  {
   "cell_type": "raw",
   "metadata": {},
   "source": [
    "bcftools view -r chr20 /nfs/production/reseq-info/work/IGSR_variants/vc_1000g_13022017/LC_EX_DIR2405/lc_ex_bam.freebayes.20170911.vcf.gz -o lc_ex_bam.freebayes.20170911.chr20.vcf.gz -Oz --threads 5"
   ]
  },
  {
   "cell_type": "markdown",
   "metadata": {},
   "source": [
    "In order to fix a problem with the VCF header causing bcftools to crash with error:"
   ]
  },
  {
   "cell_type": "raw",
   "metadata": {},
   "source": [
    "Command error:\n",
    "  Error: wrong number of fields in FMT/DPR at chr20:60251, expected 5396, found 8094"
   ]
  },
  {
   "cell_type": "markdown",
   "metadata": {},
   "source": [
    "We need to rehead the VCF:"
   ]
  },
  {
   "cell_type": "raw",
   "metadata": {},
   "source": [
    "bcftools reheader -h header.txt -o lc_ex_bam.freebayes.20170911.chr20.reheader.vcf.gz lc_ex_bam.freebayes.20170911.chr20.vcf.gz --threads 5"
   ]
  },
  {
   "cell_type": "markdown",
   "metadata": {},
   "source": [
    "#### SNVs\n",
    "We need to normalize the VCF that will be filtered.\n",
    "In order to check that the process is working I will use only the chr20"
   ]
  },
  {
   "cell_type": "raw",
   "metadata": {},
   "source": [
    "working_dir:\n",
    "/nfs/production/reseq-info/work/ernesto/isgr/VARIANT_CALLING/VARCALL_ALLGENOME_13022017/FILTERING/03_2019/FREEBAYES/APPLY/NORMALIZATION/CHR20"
   ]
  },
  {
   "cell_type": "markdown",
   "metadata": {},
   "source": [
    "And then we can use the normalization pipeline:"
   ]
  },
  {
   "cell_type": "raw",
   "metadata": {},
   "source": [
    "/nfs/production/reseq-info/work/ernesto/bin/nextflow run /homes/ernesto/lib/igsr_analysis_master/igsr_analysis/scripts/VCF/NORMALIZATION/normalize_vcf.nf --vcf /nfs/production/reseq-info/work/ernesto/isgr/VARIANT_CALLING/VARCALL_ALLGENOME_13022017/FILTERING/03_2019/FREEBAYES/APPLY/NORMALIZATION/CHR20/lc_ex_bam.freebayes.20170911.chr20.reheader.vcf.gz -with-singularity /nfs/production/reseq-info/work/ernesto/isgr/VARIANT_CALLING/VARCALL_ALLGENOME_13022017/FILTERING/05_2017/LC_DIR/BCFTOOLS/DEVEL/ALL_SAMPLES/DATA/variant_filtering.simg --ref /nfs/production/reseq-info/work/reference/GRCh38/GRCh38_full_analysis_set_plus_decoy_hla.fa --vt snps --outprefix lc_ex_bam.freebayes.20170911.chr20.snvs.norm --threads 5"
   ]
  },
  {
   "cell_type": "markdown",
   "metadata": {},
   "source": [
    "And then we can use the Nextflow pipeline with the fitted model produced in the `Training the model` section in order to apply the filtering on chr20:"
   ]
  },
  {
   "cell_type": "raw",
   "metadata": {},
   "source": [
    "/nfs/production/reseq-info/work/ernesto/bin/nextflow -C /homes/ernesto/lib/igsr_analysis_master/igsr_analysis/scripts/VCF/FILTER/MLfilter_applymodel.config run /homes/ernesto/lib/igsr_analysis_master/igsr_analysis/scripts/VCF/FILTER/MLfilter_applymodel.nf --vcf /nfs/production/reseq-info/work/ernesto/isgr/VARIANT_CALLING/VARCALL_ALLGENOME_13022017/FILTERING/03_2019/FREEBAYES/APPLY/NORMALIZATION/CHR20/norm_file/lc_ex_bam.freebayes.20170911.chr20.snvs.norm.normalized.vcf.gz --model /nfs/production/reseq-info/work/ernesto/isgr/VARIANT_CALLING/VARCALL_ALLGENOME_13022017/FILTERING/03_2019/FREEBAYES/TRAIN/SNVs/TRAIN_CHR20/trained_model/fitted_logreg_vts.sav --annotations '%CHROM\\t%POS\\t%QUAL\\t%INFO/DP\\t%INFO/DPB\\t%INFO/RO\\t%INFO/AO\\t%INFO/PRO\\t%INFO/PAO\\t%INFO/QR\\t%INFO/QA\\t%INFO/PQR\\t%INFO/PQA\\t%INFO/SRF\\t%INFO/SRR\\t%INFO/SAR\\t%INFO/SRP\\t%INFO/SAP\\t%INFO/AB\\t%INFO/ABP\\t%INFO/RPP\\t%INFO/RPL\\t%INFO/RPR\\t%INFO/DPRA\\t%INFO/MEANALT\\t%INFO/MQM\\t%INFO/MQMR\\n' --vt snps --threads 5"
   ]
  },
  {
   "cell_type": "markdown",
   "metadata": {},
   "source": [
    "* Assessing the quality of the filtered and unfiltered VCF with GIAB NA12878:"
   ]
  },
  {
   "cell_type": "markdown",
   "metadata": {},
   "source": [
    "**PREFILTER:**"
   ]
  },
  {
   "cell_type": "raw",
   "metadata": {},
   "source": [
    "work dir:\n",
    "/nfs/production/reseq-info/work/ernesto/isgr/VARIANT_CALLING/VARCALL_ALLGENOME_13022017/FILTERING/03_2019/FREEBAYES/APPLY/SNVS/chr20/GIAB/PREFILTER"
   ]
  },
  {
   "cell_type": "raw",
   "metadata": {},
   "source": [
    " /nfs/production/reseq-info/work/ernesto/bin/nextflow -C /homes/ernesto/lib/igsr_analysis_master/igsr_analysis/scripts/VCF/QC/compare_with_giab.config run /homes/ernesto/lib/igsr_analysis_master/igsr_analysis/scripts/VCF/QC/compare_with_giab.nf --vcf /nfs/production/reseq-info/work/ernesto/isgr/VARIANT_CALLING/VARCALL_ALLGENOME_13022017/FILTERING/03_2019/FREEBAYES/APPLY/NORMALIZATION/CHR20/norm_file/lc_ex_bam.freebayes.20170911.chr20.snvs.norm.sort.uniq.NA12878.vcf.gz --giab /nfs/production/reseq-info/work/ernesto/isgr/SUPPORTING/REFERENCE/GIAB/ANALYSIS_READY/CHR20/NA12878.giab.SNP.chr20.non_valid.reheaded.vcf.gz --vt snps --chros chr20 -with-singularity /nfs/production/reseq-info/work/ernesto/isgr/VARIANT_CALLING/VARCALL_ALLGENOME_13022017/FILTERING/05_2017/LC_DIR/BCFTOOLS/DEVEL/ALL_SAMPLES/DATA/variant_filtering.simg"
   ]
  },
  {
   "cell_type": "markdown",
   "metadata": {},
   "source": [
    "**POSTFILTER:**"
   ]
  },
  {
   "cell_type": "raw",
   "metadata": {},
   "source": [
    "work dir:\n",
    "/nfs/production/reseq-info/work/ernesto/isgr/VARIANT_CALLING/VARCALL_ALLGENOME_13022017/FILTERING/03_2019/FREEBAYES/APPLY/SNVS/chr20/GIAB/POSTFILTER"
   ]
  },
  {
   "cell_type": "raw",
   "metadata": {},
   "source": [
    "/nfs/production/reseq-info/work/ernesto/bin/nextflow -C /homes/ernesto/lib/igsr_analysis_master/igsr_analysis/scripts/VCF/QC/compare_with_giab.config run /homes/ernesto/lib/igsr_analysis_master/igsr_analysis/scripts/VCF/QC/compare_with_giab.nf --vcf /nfs/production/reseq-info/work/ernesto/isgr/VARIANT_CALLING/VARCALL_ALLGENOME_13022017/FILTERING/03_2019/FREEBAYES/APPLY/SNVS/chr20/results_chr20/filt.N12878.vcf.gz --giab /nfs/production/reseq-info/work/ernesto/isgr/SUPPORTING/REFERENCE/GIAB/ANALYSIS_READY/CHR20/NA12878.giab.SNP.chr20.non_valid.reheaded.vcf.gz --vt snps --chros chr20 -with-singularity /nfs/production/reseq-info/work/ernesto/isgr/VARIANT_CALLING/VARCALL_ALLGENOME_13022017/FILTERING/05_2017/LC_DIR/BCFTOOLS/DEVEL/ALL_SAMPLES/DATA/variant_filtering.simg"
   ]
  },
  {
   "cell_type": "markdown",
   "metadata": {},
   "source": [
    "**FILTERED with HARD_QUAL_CUTOFF**  \n",
    "This section is on GIAB NA12878 benchmarking vs chr20 SNP Freebayes VCF filtered using just a hard quality cutoff=1"
   ]
  },
  {
   "cell_type": "raw",
   "metadata": {},
   "source": [
    "work dir:\n",
    "/nfs/production/reseq-info/work/ernesto/isgr/VARIANT_CALLING/VARCALL_ALLGENOME_13022017/FILTERING/03_2019/FREEBAYES/APPLY/SNVS/chr20_hardcutoff"
   ]
  },
  {
   "cell_type": "markdown",
   "metadata": {},
   "source": [
    "First, let's get the variants for chr20:"
   ]
  },
  {
   "cell_type": "raw",
   "metadata": {},
   "source": [
    "bcftools view -v snps -r chr20 /nfs/production/reseq-info/work/ernesto/isgr/VARIANT_CALLING/VARCALL_ALLGENOME_13022017/FILTERING/05_2017/FREEBAYES/final_dir/GIAB/POST_FILTER/lc_ex_bam.freebayes.20171013.filt.NA12878.onlyvariants.sites.non_valid.vcf.gz -o lc_ex_bam.freebayes.20171013.filt.NA12878.onlyvariants.sites.non_valid.snps.chr20.vcf.gz -Oz"
   ]
  },
  {
   "cell_type": "markdown",
   "metadata": {},
   "source": [
    "**QC:**"
   ]
  },
  {
   "cell_type": "markdown",
   "metadata": {},
   "source": [
    "| Dataset       | shared (TP)  | giab_only (FN)| Igsr_only (FP) | total in giab | total in igsr |\n",
    "| ------------- | ------------ | ------------- | -------------- | ------------- | ------------- |\n",
    "| *Prefilter*   | 63,746 (95.2%)| 3,204 (4.8%) | 6,524 (9.3%)   | 66,950 (100%) | 70,270 (100%) |\n",
    "| *Postfilter (c:0.950)* |59,717 (89.2%)  | 7,233 (10.8%) |5,753 (8.8%) | 66,950 (100%) | 65,470 (100%)|\n",
    "| *Postfilter (c:0.955)* |59,713 (89.2%)  | 7,237 (10.8%) | 5,681 (8.7%)| 66,950 (100%) | 65,394 (100%)|\n",
    "| *Postfilter (c:0.965)* |59,706 (89.2%)  |7,244 (10.8%)| 5,519 (8.5%) | 66,950 (100%) | 65,225 (100%) |\n",
    "| *Postfilter (c:0.970)* |59,701 (89.2%)| 7,249 (10.8%) | 5,413 (8.3%) | 66,950 (100%) | 65,114 (100%) |\n",
    "| *Postfilter (c:0.975)* |59,696 (89.2%)|7,254 (10.8%)| 5,266 (8.1%) | 66,950 (100%) | 64,962 (100%) |\n",
    "| *Postfilter (c:0.980)* |59,677 (89.1%)| 7,273 (10.9%) | 5,095 (7.9%) | 66,950 (100%) | 64,772 (100%) |\n",
    "| *Postfilter (c:0.985)* |59,663 (89.1%)|7,287 (10.9%) | 4,871 (7.5%) | 66,950 (100%) |  64,534 (100%) |\n",
    "| *Postfilter (c:0.990)* |59,632 (89.1%)|7,318 (10.9%)| 4513 (7.0%) | 66,950 (100%) | 64,145 (100%) |\n",
    "| *Postfilter (c:0.991)* |59,624 (89.1%)|7,326 (10.9%)|4,420 (6.9%) | 66,950 (100%) | 64,044 (100%) |\n",
    "| *Postfilter (c:0.992)* |59,617 (89.0%)|7,333 (11.0%)|4,285 (6.7%) | 66,950 (100%) | 63,902 (100%) |\n",
    "| *Postfilter (c:0.993)* |59,611 (89.0%)|7,339 (11.0%)| 4,130 (6.5%)| 66,950 (100%) | 63,741 (100%) |\n",
    "| *Postfilter (c:0.994)* |59,594 (89.0%)|7,356 (11.0%)|3,933 (6.2%)| 66,950 (100%) | 63,527 (100%) |\n",
    "| *Postfilter (c:0.995)* |59,575 (89.0%)|7,375 (11.0%)|3,683 (5.8%)| 66,950 (100%) | 63,258 (100%) |\n",
    "| *Postfilter (c:0.996)* |59,548 (88.9%)|7,402 (11.1%)|3,303 (5.3%)| 66,950 (100%) | 62,851 (100%) |\n",
    "| *Postfilter (c:0.997)* |59,526 (88.9%)|7,424 (11.1%)|2,785 (4.5%)| 66,950 (100%) | 62,311 (100%) |\n",
    "| *Postfilter (c:0.998)* |59,454 (88.8%)|7,496 (11.2%)|2,021 (3.3%)| 66,950 (100%) | 61,475 (100%) |\n",
    "| **Postfilter (c:0.999)** |**59,302 (88.6%)**|**7,648 (11.4%)**|**1,266 (2.1%)**| 66,950 (100%) | 60,568 (100%) |\n",
    "| *Postfilter (c:1.00)* |9,941 (14.8%) | 57,009 (85.1%) |24 (0.2%) | 66,950 (100%) | 9965 (100%) |\n",
    "| *QUAL_cutoff* |57,240 (85.5%) | 9,710 (14.5%) | 1,892 (3.2%) | 66,950 (100%) | 59,132 (100%) |"
   ]
  },
  {
   "cell_type": "markdown",
   "metadata": {},
   "source": [
    "#### INDELs\n",
    "We need to normalize the VCF that will be filtered.\n",
    "In order to check that the process is working I will use only the chr20"
   ]
  },
  {
   "cell_type": "raw",
   "metadata": {},
   "source": [
    "working_dir:\n",
    "/nfs/production/reseq-info/work/ernesto/isgr/VARIANT_CALLING/VARCALL_ALLGENOME_13022017/FILTERING/03_2019/FREEBAYES/APPLY/NORMALIZATION/CHR20"
   ]
  },
  {
   "cell_type": "markdown",
   "metadata": {},
   "source": [
    "And then we can use the normalization pipeline:"
   ]
  },
  {
   "cell_type": "raw",
   "metadata": {},
   "source": [
    "/nfs/production/reseq-info/work/ernesto/bin/nextflow run /homes/ernesto/lib/igsr_analysis_master/igsr_analysis/scripts/VCF/NORMALIZATION/normalize_vcf.nf --vcf /nfs/production/reseq-info/work/ernesto/isgr/VARIANT_CALLING/VARCALL_ALLGENOME_13022017/FILTERING/03_2019/FREEBAYES/APPLY/NORMALIZATION/CHR20/lc_ex_bam.freebayes.20170911.chr20.reheader.vcf.gz --ref /nfs/production/reseq-info/work/reference/GRCh38/GRCh38_full_analysis_set_plus_decoy_hla.fa --vt indels --outprefix lc_ex_bam.freebayes.20170911.chr20.indels.norm --threads 5 --tmpdir /nfs/production/reseq-info/work/ernesto/isgr/VARIANT_CALLING/VARCALL_ALLGENOME_13022017/FILTERING/03_2019/FREEBAYES/APPLY/NORMALIZATION/CHR20/tmpdir/"
   ]
  },
  {
   "cell_type": "markdown",
   "metadata": {},
   "source": [
    "And then we can use the Nextflow pipeline with the fitted model produced in the `Training the model` section in order to apply the filtering on chr20:"
   ]
  },
  {
   "cell_type": "raw",
   "metadata": {},
   "source": [
    "working_dir:\n",
    "/nfs/production/reseq-info/work/ernesto/isgr/VARIANT_CALLING/VARCALL_ALLGENOME_13022017/FILTERING/03_2019/FREEBAYES/APPLY/INDELS/chr20"
   ]
  },
  {
   "cell_type": "raw",
   "metadata": {},
   "source": [
    "/nfs/production/reseq-info/work/ernesto/bin/nextflow -C /homes/ernesto/lib/igsr_analysis_master/igsr_analysis/scripts/VCF/FILTER/MLfilter_applymodel.config run /homes/ernesto/lib/igsr_analysis_master/igsr_analysis/scripts/VCF/FILTER/MLfilter_applymodel.nf --vcf /nfs/production/reseq-info/work/ernesto/isgr/VARIANT_CALLING/VARCALL_ALLGENOME_13022017/FILTERING/03_2019/FREEBAYES/APPLY/NORMALIZATION/CHR20/work/40/df010d05fd89985d581d8c076a7959/lc_ex_bam.freebayes.20170911.chr20.indels.norm.normalized.vcf.gz --model /nfs/production/reseq-info/work/ernesto/isgr/VARIANT_CALLING/VARCALL_ALLGENOME_13022017/FILTERING/03_2019/FREEBAYES/TRAIN/INDELS/TRAIN/trained_model/fitted_logreg_vts.sav --annotations '%CHROM\\t%POS\\t%QUAL\\t%INFO/DP\\t%INFO/RO\\t%INFO/AO\\t%INFO/PRO\\t%INFO/PAO\\t%INFO/QR\\t%INFO/QA\\t%INFO/PQR\\t%INFO/PQA\\t%INFO/SRF\\t%INFO/SRR\\t%INFO/SAR\\t%INFO/AB\\t%INFO/ABP\\t%INFO/RPP\\t%INFO/RPPR\\t%INFO/RPR\\t%INFO/EPP\\t%INFO/DPRA\\t%INFO/ODDS\\t%INFO/MEANALT\\t%INFO/MQM\\t%INFO/MQMR\\t%INFO/PAIRED\\n' --vt indels --threads 5"
   ]
  },
  {
   "cell_type": "markdown",
   "metadata": {},
   "source": [
    "* Assessing the quality of the filtered and unfiltered VCF with GIAB NA12878:"
   ]
  },
  {
   "cell_type": "markdown",
   "metadata": {},
   "source": [
    "**PREFILTER:**"
   ]
  },
  {
   "cell_type": "raw",
   "metadata": {},
   "source": [
    "work dir:\n",
    "/nfs/production/reseq-info/work/ernesto/isgr/VARIANT_CALLING/VARCALL_ALLGENOME_13022017/FILTERING/03_2019/FREEBAYES/APPLY/INDELS/chr20/GIAB/PREFILTER"
   ]
  },
  {
   "cell_type": "raw",
   "metadata": {},
   "source": [
    "/nfs/production/reseq-info/work/ernesto/bin/nextflow -C /homes/ernesto/lib/igsr_analysis_master/igsr_analysis/scripts/VCF/QC/compare_with_giab.config run /homes/ernesto/lib/igsr_analysis_master/igsr_analysis/scripts/VCF/QC/compare_with_giab.nf --vcf /nfs/production/reseq-info/work/ernesto/isgr/VARIANT_CALLING/VARCALL_ALLGENOME_13022017/FILTERING/03_2019/FREEBAYES/APPLY/NORMALIZATION/CHR20/norm_file/lc_ex_bam.freebayes.20170911.chr20.indels.norm.normalized.NA12878.vcf.gz --giab /nfs/production/reseq-info/work/ernesto/isgr/SUPPORTING/REFERENCE/GIAB/ANALYSIS_READY/CHR20/NA12878.giab.INDEL.chr20.non_valid.reheaded.vcf.gz --vt indels --chros chr20 -with-singularity /nfs/production/reseq-info/work/ernesto/isgr/VARIANT_CALLING/VARCALL_ALLGENOME_13022017/FILTERING/05_2017/LC_DIR/BCFTOOLS/DEVEL/ALL_SAMPLES/DATA/variant_filtering.simg"
   ]
  },
  {
   "cell_type": "markdown",
   "metadata": {},
   "source": [
    "**POSTFILTER:**"
   ]
  },
  {
   "cell_type": "raw",
   "metadata": {},
   "source": [
    "work dir:\n",
    "/nfs/production/reseq-info/work/ernesto/isgr/VARIANT_CALLING/VARCALL_ALLGENOME_13022017/FILTERING/03_2019/FREEBAYES/APPLY/INDELS/chr20/GIAB/POSTFILTER/"
   ]
  },
  {
   "cell_type": "raw",
   "metadata": {},
   "source": [
    "/nfs/production/reseq-info/work/ernesto/bin/nextflow -C /homes/ernesto/lib/igsr_analysis_master/igsr_analysis/scripts/VCF/QC/compare_with_giab.config run /homes/ernesto/lib/igsr_analysis_master/igsr_analysis/scripts/VCF/QC/compare_with_giab.nf --vcf /nfs/production/reseq-info/work/ernesto/isgr/VARIANT_CALLING/VARCALL_ALLGENOME_13022017/FILTERING/03_2019/FREEBAYES/APPLY/INDELS/chr20/results_chr20/filt_0_6.NA12878.vcf.gz --giab /nfs/production/reseq-info/work/ernesto/isgr/SUPPORTING/REFERENCE/GIAB/ANALYSIS_READY/CHR20/NA12878.giab.INDEL.chr20.non_valid.reheaded.vcf.gz --vt indels --chros chr20 -with-singularity /nfs/production/reseq-info/work/ernesto/isgr/VARIANT_CALLING/VARCALL_ALLGENOME_13022017/FILTERING/05_2017/LC_DIR/BCFTOOLS/DEVEL/ALL_SAMPLES/DATA/variant_filtering.simg"
   ]
  },
  {
   "cell_type": "markdown",
   "metadata": {},
   "source": [
    "**QC:**"
   ]
  },
  {
   "cell_type": "markdown",
   "metadata": {},
   "source": [
    "| Dataset       | shared (TP)  | giab_only (FN)| Igsr_only (FP) | total in giab | total in igsr|\n",
    "| ------------- | ------------ | ------------- | -------------- | ------------- | -------------|\n",
    "| *Prefilter*   |6,920 (63.3%) |4,015 (36.7%)  |1,863 (21.2%)   | 10,935 (100%) | 8,783 (100%) |\n",
    "| *Postfilter (c:0.1)* | 6,413 (58.6%)|4,522 (41.3%)|1,409 (18.0%)| 10,935 (100%) |  7,822(100%)|\n",
    "| *Postfilter (c:0.2)* | 6,044 (55.3%)|4,891 (44.7%)|1,201 (16.6%) | 10,935 (100%) | 7,245 (100%)|\n",
    "| *Postfilter (c:0.3)* | 5,757 (52.6%)|5,178 (47.3%)|924 (13.8%) | 10,935 (100%) | 6,681 (100%)|\n",
    "| *Postfilter (c:0.4)* | 5,522 (50.5%) |5,413 (49.5%)|656 (10.6%) | 10,935 (100%) | 6,178 (100%)|\n",
    "| *Postfilter (c:0.5)* | 5,345 (48.9%) |5,590 (51.1%)|428 (7.4%) | 10,935 (100%) | 5,773 (100%)|\n",
    "| *Postfilter (c:0.6)* | 5,152 (47.1%) |5,783 (52.9%) |290 (5.3%) | 10,935 (100%) | 5,442 (100%)|\n",
    "| *Postfilter (c:0.7)* | 4,955 (45.3%) |5,980 (54.7%) | 210 (4.1%)| 10,935 (100%) | 5,165 (100%)|\n",
    "| *Postfilter (c:0.8)* | 4,640 (42.4%) |6,295 (57.6%) | 130 (2.7%)| 10,935 (100%) | 4,770 (100%)|\n",
    "| *Postfilter (c:0.9)* | 3,920 (35.8%) |7,015 (64.2%) |62 (1.6%) | 10,935 (100%) | 3,982 (100%)|\n",
    "| *Postfilter (c:1.0)* | 9 (0.1%)|10,926 (99.9%) |0 (0%) | 10,935 (100%) | 9 (100%)|\n",
    "| *QUAL_cutoff* |4,343 (39.7%) | 6,592 (60.3%) |189 (4.2%) | 10,935 (100%) | 4,532 (100%) |"
   ]
  },
  {
   "cell_type": "markdown",
   "metadata": {},
   "source": [
    "**FILTERED with HARD_QUAL_CUTOFF**  \n",
    "This section is on GIAB NA12878 benchmarking vs chr20 INDEL Freebayes VCF filtered using just a hard quality cutoff=1"
   ]
  },
  {
   "cell_type": "raw",
   "metadata": {},
   "source": [
    "work dir:\n",
    "/nfs/production/reseq-info/work/ernesto/isgr/VARIANT_CALLING/VARCALL_ALLGENOME_13022017/FILTERING/03_2019/FREEBAYES/APPLY/INDELS/chr20_hardcutoff"
   ]
  },
  {
   "cell_type": "markdown",
   "metadata": {},
   "source": [
    "First, let's get the variants for chr20:"
   ]
  },
  {
   "cell_type": "raw",
   "metadata": {},
   "source": [
    "bcftools view -v indels -r chr20 /nfs/production/reseq-info/work/ernesto/isgr/VARIANT_CALLING/VARCALL_ALLGENOME_13022017/FILTERING/05_2017/FREEBAYES/final_dir/GIAB/POST_FILTER/lc_ex_bam.freebayes.20171013.filt.NA12878.onlyvariants.sites.non_valid.vcf.gz -o lc_ex_bam.freebayes.20171013.filt.NA12878.onlyvariants.sites.non_valid.indels.chr20.vcf.gz -Oz"
   ]
  }
 ],
 "metadata": {
  "kernelspec": {
   "display_name": "Python 3",
   "language": "python",
   "name": "python3"
  },
  "language_info": {
   "codemirror_mode": {
    "name": "ipython",
    "version": 3
   },
   "file_extension": ".py",
   "mimetype": "text/x-python",
   "name": "python",
   "nbconvert_exporter": "python",
   "pygments_lexer": "ipython3",
   "version": "3.5.3"
  },
  "toc": {
   "nav_menu": {},
   "number_sections": true,
   "sideBar": true,
   "skip_h1_title": false,
   "title_cell": "Table of Contents",
   "title_sidebar": "Contents",
   "toc_cell": false,
   "toc_position": {},
   "toc_section_display": true,
   "toc_window_display": false
  }
 },
 "nbformat": 4,
 "nbformat_minor": 2
}
